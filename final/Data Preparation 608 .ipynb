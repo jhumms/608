{
 "cells": [
  {
   "cell_type": "markdown",
   "metadata": {},
   "source": [
    "# Part One: Getting the list of all Properties"
   ]
  },
  {
   "cell_type": "markdown",
   "metadata": {},
   "source": [
    "First we will set up a script to download all the most up-to-date tax information on properties in Syracuse"
   ]
  },
  {
   "cell_type": "code",
   "execution_count": 1,
   "metadata": {},
   "outputs": [],
   "source": [
    "# Import Library\n",
    "from selenium import webdriver\n",
    "import pandas as pd\n",
    "import time\n",
    "from selenium.webdriver.common.keys import Keys\n",
    "from selenium.webdriver.common.by import By"
   ]
  },
  {
   "cell_type": "code",
   "execution_count": 2,
   "metadata": {},
   "outputs": [],
   "source": [
    "pd.set_option('display.max_rows', None)\n",
    "pd.set_option('display.max_columns', None)"
   ]
  },
  {
   "cell_type": "code",
   "execution_count": null,
   "metadata": {},
   "outputs": [],
   "source": [
    "# Open Browser\n",
    "driver = webdriver.Chrome(executable_path='C:/Users/humme/Downloads/chromedriver.exe')\n",
    "# Get the  URL\n",
    "url = 'https://ocfintax.ongov.net/Imate/index.aspx'\n",
    "driver.get(url)"
   ]
  },
  {
   "cell_type": "code",
   "execution_count": null,
   "metadata": {},
   "outputs": [],
   "source": [
    "element = driver.find_element(By.ID,value='btnPublicAccess')\n",
    "element.click();\n",
    "\n",
    "element = driver.find_element(By.ID,value='chkAgree')\n",
    "element.click();\n",
    "time.sleep(0.25) #sleep for 250 milliseconds\n",
    "element = driver.find_element(By.ID,value='btnSubmit')\n",
    "element.click();\n",
    "\n",
    "element = driver.find_element(By.ID,value='btnSearch')\n",
    "element.click();"
   ]
  },
  {
   "cell_type": "code",
   "execution_count": null,
   "metadata": {},
   "outputs": [],
   "source": [
    "pages = int(driver.find_element(By.ID,value=\"lblPageCount\").text)\n",
    "converters = {\"Property #\":str}\n",
    "Tax_Database = pd.read_html(driver.find_element(by=By.XPATH, value='//*[@id=\"tblList\"]').get_attribute('outerHTML'), header = 0, converters = converters)[0]"
   ]
  },
  {
   "cell_type": "code",
   "execution_count": null,
   "metadata": {},
   "outputs": [],
   "source": [
    "for i in range(pages-1):\n",
    "        element = driver.find_element(By.ID,value='lnkNextPage')\n",
    "        element.click()\n",
    "        new = pd.read_html(driver.find_element(by=By.XPATH, value='//*[@id=\"tblList\"]').get_attribute('outerHTML'), header = 0, converters = converters)[0]\n",
    "        Tax_Database = pd.concat([Tax_Database, new])\n",
    "        print(len(Tax_Database))\n",
    "        time.sleep(0.25) #sleep for 250 milliseconds"
   ]
  },
  {
   "cell_type": "code",
   "execution_count": null,
   "metadata": {},
   "outputs": [],
   "source": [
    "driver.close()\n",
    "driver.quit()"
   ]
  },
  {
   "cell_type": "code",
   "execution_count": null,
   "metadata": {},
   "outputs": [],
   "source": [
    "import os\n",
    "from pandas import ExcelWriter\n",
    "os.chdir(\"C:/Users/\"+ str(os.environ['USERNAME'])+\"/Downloads/\")\n",
    "with ExcelWriter('syracuse_house_data.xlsx', date_format='MM/DD/YYYY', datetime_format='MM/DD/YYYY') as writer:\n",
    "    Tax_Database.to_excel(writer, index=False)"
   ]
  },
  {
   "cell_type": "markdown",
   "metadata": {},
   "source": [
    "# Part One A:\n",
    "We will clean the data and match it with the data from foil"
   ]
  },
  {
   "cell_type": "code",
   "execution_count": null,
   "metadata": {},
   "outputs": [],
   "source": [
    "foil = pd.read_excel(\"C:/Users/humme/My Drive/CUNY Classes/608 - Knowledge and Visual Analytics/Syracuse_foil_data_2022.xlsx\")"
   ]
  },
  {
   "cell_type": "code",
   "execution_count": 3,
   "metadata": {},
   "outputs": [],
   "source": [
    "collect = pd.read_excel(\"C:/Users/humme/Downloads/syracuse_house_data.xlsx\", converters = {\"Property #\":str})"
   ]
  },
  {
   "cell_type": "markdown",
   "metadata": {},
   "source": [
    "Now, let's rename and clean some of these columns as well as check to see what the data looks like."
   ]
  },
  {
   "cell_type": "code",
   "execution_count": null,
   "metadata": {},
   "outputs": [],
   "source": [
    "foil.columns = ['Key Map', 'Index', 'Prop Address', 'Owner Name', 'Org Tax']"
   ]
  },
  {
   "cell_type": "code",
   "execution_count": null,
   "metadata": {},
   "outputs": [],
   "source": [
    "foil['Prop Address'] = foil['Prop Address'].str.lower()"
   ]
  },
  {
   "cell_type": "code",
   "execution_count": null,
   "metadata": {},
   "outputs": [],
   "source": [
    "foil.head()"
   ]
  },
  {
   "cell_type": "code",
   "execution_count": null,
   "metadata": {},
   "outputs": [],
   "source": [
    "collect.columns = ['Prop Number', 'Municipality', 'Tax ID', 'Owner', 'Street Number', \"Street Name\"]"
   ]
  },
  {
   "cell_type": "code",
   "execution_count": null,
   "metadata": {},
   "outputs": [],
   "source": [
    "collect.head()"
   ]
  },
  {
   "cell_type": "markdown",
   "metadata": {},
   "source": [
    "It looks like the Key Map Column is the Municipality number as well as the tax id combined together. So we will create a new column in collect that includes that so we can merge them. "
   ]
  },
  {
   "cell_type": "code",
   "execution_count": null,
   "metadata": {},
   "outputs": [],
   "source": [
    "collect['key'] = collect['Municipality'].str.extract(r'(\\d*([^-]+))')[0]"
   ]
  },
  {
   "cell_type": "code",
   "execution_count": null,
   "metadata": {},
   "outputs": [],
   "source": [
    "collect['Key Map'] = collect['key'] + collect['Tax ID']"
   ]
  },
  {
   "cell_type": "code",
   "execution_count": null,
   "metadata": {},
   "outputs": [],
   "source": [
    "collect['Key Map'] = collect['Key Map'].str.replace(' ', '')"
   ]
  },
  {
   "cell_type": "code",
   "execution_count": null,
   "metadata": {},
   "outputs": [],
   "source": [
    "collect.head()"
   ]
  },
  {
   "cell_type": "markdown",
   "metadata": {},
   "source": [
    "Now that we have the primary key, we can merge the data. And we will check the merge."
   ]
  },
  {
   "cell_type": "code",
   "execution_count": null,
   "metadata": {},
   "outputs": [],
   "source": [
    "combined = collect.merge(foil, how='left', on='Key Map')"
   ]
  },
  {
   "cell_type": "code",
   "execution_count": null,
   "metadata": {},
   "outputs": [],
   "source": [
    "combined.head()"
   ]
  },
  {
   "cell_type": "code",
   "execution_count": null,
   "metadata": {},
   "outputs": [],
   "source": [
    "combined.describe()"
   ]
  },
  {
   "cell_type": "code",
   "execution_count": null,
   "metadata": {},
   "outputs": [],
   "source": [
    "combined.isnull( ).sum()"
   ]
  },
  {
   "cell_type": "code",
   "execution_count": null,
   "metadata": {},
   "outputs": [],
   "source": [
    "combined.nunique()"
   ]
  },
  {
   "cell_type": "markdown",
   "metadata": {},
   "source": [
    "FOIL Told me that they can only give me data for the suburbs and not the city. So we need to check to see if all of the NA Properties for Prop Adress are City Properties. We can do this by seeing if there is an equal number of 'Prop Numbers' as there are NAs. Prop Number was a column unique to city adresses that will also be used to get data online for the tax amount. "
   ]
  },
  {
   "cell_type": "code",
   "execution_count": null,
   "metadata": {},
   "outputs": [],
   "source": [
    "combined_check = combined.loc[combined['Index'].isnull()] "
   ]
  },
  {
   "cell_type": "code",
   "execution_count": null,
   "metadata": {},
   "outputs": [],
   "source": [
    "combined_check.isnull( ).sum()"
   ]
  },
  {
   "cell_type": "markdown",
   "metadata": {},
   "source": [
    "So we have 3k that do no have a prop number to get the information online. First, let's see if there are any city addresses that are blank. "
   ]
  },
  {
   "cell_type": "code",
   "execution_count": null,
   "metadata": {},
   "outputs": [],
   "source": [
    "combined_check['Municipality'].loc[combined_check['Prop Number'].isnull()].value_counts()"
   ]
  },
  {
   "cell_type": "markdown",
   "metadata": {},
   "source": [
    "It does not look like that there aren't any city addresses, only suburbs. When I looked up a few of the houses, I found that they were new construction and still on the market having never paid taxes. We can check this by seeing the more popular streets where the houses are on."
   ]
  },
  {
   "cell_type": "code",
   "execution_count": null,
   "metadata": {},
   "outputs": [],
   "source": [
    "l = pd.DataFrame(combined_check.loc[combined_check['Prop Number'].isnull()].groupby(['Municipality','Street Name']).size().to_frame(name = 'count').reset_index()).sort_values(by = ['Municipality','count'], ascending = False)"
   ]
  },
  {
   "cell_type": "code",
   "execution_count": null,
   "metadata": {},
   "outputs": [],
   "source": [
    "l.loc[l['count'] > 5]"
   ]
  },
  {
   "cell_type": "markdown",
   "metadata": {},
   "source": [
    "It does look like that most are new construction! So we will exclude these from the data set. "
   ]
  },
  {
   "cell_type": "code",
   "execution_count": null,
   "metadata": {},
   "outputs": [],
   "source": [
    "remove_list  = list(combined_check['Key Map'].loc[combined_check['Prop Number'].isnull()])"
   ]
  },
  {
   "cell_type": "code",
   "execution_count": null,
   "metadata": {},
   "outputs": [],
   "source": [
    "len_rem = len(remove_list)\n",
    "len_comb = len(combined)"
   ]
  },
  {
   "cell_type": "code",
   "execution_count": null,
   "metadata": {},
   "outputs": [],
   "source": [
    "combined = combined[~combined['Key Map'].isin(remove_list)]"
   ]
  },
  {
   "cell_type": "code",
   "execution_count": null,
   "metadata": {},
   "outputs": [],
   "source": [
    "len_comb - len_rem == len(combined)"
   ]
  },
  {
   "cell_type": "markdown",
   "metadata": {},
   "source": [
    "Now another issue I noticed is that there might be 2+ people registered to an address that combined will pay taxes. For example, my wife Shwetha and I."
   ]
  },
  {
   "cell_type": "code",
   "execution_count": null,
   "metadata": {},
   "outputs": [],
   "source": [
    "combined.loc[(combined['Street Name'].str.contains(\"Clarendon\")) & (combined['Street Number'].str.contains(\"515\"))]"
   ]
  },
  {
   "cell_type": "code",
   "execution_count": null,
   "metadata": {},
   "outputs": [],
   "source": [
    "combined = combined.drop_duplicates(subset=['Key Map'], keep='first', inplace=False, ignore_index=False).reset_index()"
   ]
  },
  {
   "cell_type": "markdown",
   "metadata": {},
   "source": [
    "Now we will save this dataset and move on to the next step"
   ]
  },
  {
   "cell_type": "code",
   "execution_count": null,
   "metadata": {},
   "outputs": [],
   "source": [
    "import os\n",
    "from pandas import ExcelWriter\n",
    "os.chdir(\"C:/Users/\"+ str(os.environ['USERNAME'])+\"/Downloads/\")\n",
    "with ExcelWriter('syracuse_house_data_combined.xlsx', date_format='MM/DD/YYYY', datetime_format='MM/DD/YYYY') as writer:\n",
    "    combined.to_excel(writer, index=False)"
   ]
  },
  {
   "cell_type": "markdown",
   "metadata": {},
   "source": [
    "# Part Two: Getting the Tax Dollars for City Taxes"
   ]
  },
  {
   "cell_type": "markdown",
   "metadata": {},
   "source": [
    "As mentioned above, there are city houses that do not have county/town taxes so we have to get them and add them to the data"
   ]
  },
  {
   "cell_type": "code",
   "execution_count": null,
   "metadata": {},
   "outputs": [],
   "source": [
    "new = pd.read_excel(\"C:/Users/humme/Downloads/syracuse_house_data_combined.xlsx\", converters = {\"Prop Number\":str})"
   ]
  },
  {
   "cell_type": "code",
   "execution_count": null,
   "metadata": {},
   "outputs": [],
   "source": [
    "s_prop = new.loc[~new['Prop Number'].isnull()]"
   ]
  },
  {
   "cell_type": "code",
   "execution_count": null,
   "metadata": {},
   "outputs": [],
   "source": [
    "s_prop.head()"
   ]
  },
  {
   "cell_type": "code",
   "execution_count": null,
   "metadata": {},
   "outputs": [],
   "source": [
    "s_list = list(set(s_prop['Prop Number']))"
   ]
  },
  {
   "cell_type": "code",
   "execution_count": null,
   "metadata": {},
   "outputs": [],
   "source": [
    "tot = len(set(s_list))"
   ]
  },
  {
   "cell_type": "markdown",
   "metadata": {},
   "source": [
    "I would not recommend running the following code because it took 5+ hours to run (I ran it while asleep)."
   ]
  },
  {
   "cell_type": "code",
   "execution_count": null,
   "metadata": {},
   "outputs": [],
   "source": [
    "# Open Browser\n",
    "tax_amount = []\n",
    "count = 0\n",
    "start1 = time.time()\n",
    "\n",
    "driver = webdriver.Chrome(executable_path='C:/Users/humme/Downloads/chromedriver.exe')\n",
    "\n",
    "for i in s_list:\n",
    "    start = time.time()\n",
    "    url = \"https://syracuse.go2gov.net/faces/accounts?number=\" + str(i) + \"&src=SDG\"\n",
    "    driver.get(url)\n",
    "    count+=1\n",
    "   \n",
    "    \n",
    "    if \"etaxTemplateForm:current1:0:seq1\" in driver.page_source:\n",
    "        element = driver.find_element(By.ID,value='etaxTemplateForm:current1:0:seq1')\n",
    "        element.click();\n",
    "        \n",
    "        Tax_Database = pd.read_html(driver.find_element(by=By.XPATH, value='//*[@id=\"etaxTemplateForm:entities1\"]').get_attribute('outerHTML'), header = 0)[0]\n",
    "        city = Tax_Database['Tax Amount'].loc[Tax_Database['Taxing Purpose']=='CITY'][0]\n",
    "        driver.back()\n",
    "        \n",
    "        Tax_Database = pd.read_html(driver.find_element(by=By.XPATH, value='//*[@id=\"etaxTemplateForm:current1\"]').get_attribute('outerHTML'), header = 0)[0]\n",
    "        county = Tax_Database['Tax Amount'].loc[Tax_Database['Unnamed: 0'].str.contains('County')][1]\n",
    "        tax_amount.append({\n",
    "            'Prod Number': i,\n",
    "            'City_Tax': city,\n",
    "            'County_Tax':county\n",
    "        })\n",
    "    else:\n",
    "        city = 'NA'\n",
    "        county = 'NA'\n",
    "        tax_amount.append({\n",
    "            'Prod Number': i,\n",
    "            'City_Tax': city,\n",
    "            'County_Tax':county\n",
    "        })\n",
    "    print(count,\" | \", tot)\n",
    "\n",
    "pd.DataFrame(tax_amount)"
   ]
  },
  {
   "cell_type": "code",
   "execution_count": null,
   "metadata": {},
   "outputs": [],
   "source": [
    "taxes = pd.DataFrame(tax_amount)"
   ]
  },
  {
   "cell_type": "code",
   "execution_count": null,
   "metadata": {},
   "outputs": [],
   "source": [
    "u_cols = ['City_Tax','County_Tax']\n",
    "for i in u_cols:  \n",
    "    if ',' in  taxes[i]:\n",
    "        taxes[i] = taxes[i].str.replace(',','')\n",
    "        taxes[i] = taxes[i].str.replace('$','')\n",
    "    else:\n",
    "        taxes[i] = taxes[i].str.replace('$','')\n",
    "    \n",
    "for i in u_cols:\n",
    "    taxes[i] = pd.to_numeric(taxes[i], errors='coerce')"
   ]
  },
  {
   "cell_type": "code",
   "execution_count": null,
   "metadata": {},
   "outputs": [],
   "source": [
    "import os\n",
    "from pandas import ExcelWriter\n",
    "os.chdir(\"C:/Users/\"+ str(os.environ['USERNAME'])+\"/Downloads/\")\n",
    "with ExcelWriter('syracuse_house_tax.xlsx', date_format='MM/DD/YYYY', datetime_format='MM/DD/YYYY') as writer:\n",
    "    taxes.to_excel(writer, index=False)"
   ]
  },
  {
   "cell_type": "markdown",
   "metadata": {},
   "source": [
    "# Part 3 More Cleaning and data gathering\n",
    "First, we need to download the data. I have already recieved access through a FOIL request or scraped the data online and the data we got from NYS."
   ]
  },
  {
   "cell_type": "markdown",
   "metadata": {},
   "source": [
    "I had to also get data from [NYS](https://data.ny.gov/Government-Finance/Property-Assessment-Data-from-Local-Assessment-Rol/7vem-aaz7) so that we can match it up and get the building classifications."
   ]
  },
  {
   "cell_type": "code",
   "execution_count": 3,
   "metadata": {},
   "outputs": [],
   "source": [
    "## Asses is what we got from NYS\n",
    "asses = pd.read_table(\"C:/Users/humme/Downloads/Prop_Assess.csv\", \n",
    "                      encoding='utf-8', \n",
    "                      header=0, \n",
    "                      sep = \",\", \n",
    "                      dtype = {'School District Code':object, 'Municipality Code':object},\n",
    "                      usecols = ['Municipality Code','Municipality Name','School District Code','School District Name','SWIS Code','Property Class','Property Class Description','Print Key Code','Parcel Address Number','Parcel Address Street','Parcel Address Suff','Primary Owner First Name','Primary Owner Last Name','Full Market Value','Assessment Land','Assessment Total','County Taxable Value','Town Taxable Value','School Taxable', 'Grid Coordinates East', 'Grid Coordinates North']\n",
    ")\n",
    "## House Tax is the file we just got from getting all the county - town taxes and prop number\n",
    "tax = pd.read_excel(\"C:/Users/humme/Downloads/syracuse_house_tax.xlsx\", \n",
    "                    converters = {\"Prod Number\":str})\n",
    "\n",
    "## Data combined is from part one and includes the data we originally scraped as well as the foil data\n",
    "total = pd.read_excel(\"C:/Users/humme/Downloads/syracuse_house_data_combined.xlsx\", \n",
    "                      converters = {\"Prop Number\":str})"
   ]
  },
  {
   "cell_type": "code",
   "execution_count": 4,
   "metadata": {},
   "outputs": [],
   "source": [
    "tax = tax.rename(columns={'Prod Number': 'Prop Number'})"
   ]
  },
  {
   "cell_type": "markdown",
   "metadata": {},
   "source": [
    "I want to merge the data file that I have for City Taxes (something I had to create myself) and the out of city numbers that were given in the foil request."
   ]
  },
  {
   "cell_type": "code",
   "execution_count": 5,
   "metadata": {},
   "outputs": [],
   "source": [
    "total = total.merge(tax, how='left', on='Prop Number')"
   ]
  },
  {
   "cell_type": "markdown",
   "metadata": {},
   "source": [
    "now I want to add up the city and county taxes to get the org number that the total has"
   ]
  },
  {
   "cell_type": "code",
   "execution_count": 6,
   "metadata": {},
   "outputs": [
    {
     "name": "stderr",
     "output_type": "stream",
     "text": [
      "C:\\Users\\humme\\anaconda3\\lib\\site-packages\\pandas\\core\\indexing.py:670: SettingWithCopyWarning: \n",
      "A value is trying to be set on a copy of a slice from a DataFrame\n",
      "\n",
      "See the caveats in the documentation: https://pandas.pydata.org/pandas-docs/stable/user_guide/indexing.html#returning-a-view-versus-a-copy\n",
      "  iloc._setitem_with_indexer(indexer, value)\n"
     ]
    }
   ],
   "source": [
    "total['Org Tax'].loc[~total['Prop Number'].isna()] = total['City_Tax'].fillna(0).loc[~total['Prop Number'].isna()] + total['County_Tax'].fillna(0).loc[~total['Prop Number'].isna()]"
   ]
  },
  {
   "cell_type": "code",
   "execution_count": 7,
   "metadata": {},
   "outputs": [
    {
     "data": {
      "text/plain": [
       "{True}"
      ]
     },
     "execution_count": 7,
     "metadata": {},
     "output_type": "execute_result"
    }
   ],
   "source": [
    "set(total['Org Tax'].loc[~total['Prop Number'].isna()] == total['City_Tax'].fillna(0).loc[~total['Prop Number'].isna()] + total['County_Tax'].fillna(0).loc[~total['Prop Number'].isna()])"
   ]
  },
  {
   "cell_type": "markdown",
   "metadata": {},
   "source": [
    "With the QA Above, looks good. Now I will split the org into town and city for the foil request. They informed me that roughly the split is 55% to county and 45% to town/city"
   ]
  },
  {
   "cell_type": "code",
   "execution_count": 8,
   "metadata": {},
   "outputs": [
    {
     "name": "stderr",
     "output_type": "stream",
     "text": [
      "C:\\Users\\humme\\anaconda3\\lib\\site-packages\\pandas\\core\\indexing.py:670: SettingWithCopyWarning: \n",
      "A value is trying to be set on a copy of a slice from a DataFrame\n",
      "\n",
      "See the caveats in the documentation: https://pandas.pydata.org/pandas-docs/stable/user_guide/indexing.html#returning-a-view-versus-a-copy\n",
      "  iloc._setitem_with_indexer(indexer, value)\n"
     ]
    }
   ],
   "source": [
    "total['City_Tax'].loc[total['Prop Number'].isna()] = round(total['Org Tax'].loc[total['Prop Number'].isna()] * .45,2)\n",
    "total['County_Tax'].loc[total['Prop Number'].isna()] = round(total['Org Tax'].loc[total['Prop Number'].isna()] * .55,2)"
   ]
  },
  {
   "cell_type": "code",
   "execution_count": 9,
   "metadata": {},
   "outputs": [
    {
     "data": {
      "text/plain": [
       "{'311500 - City of Syracuse',\n",
       " '312001 - Village of Camillus',\n",
       " '312089 - Town of Camillus',\n",
       " '312201 - Village of North Syracuse (Town of Cicero)',\n",
       " '312289 - Town of Cicero',\n",
       " '312401 - Village of North Syracuse (Town of Clay)',\n",
       " '312489 - Town of Clay',\n",
       " '312601 - Village of East Syracuse (Town of Dewitt)',\n",
       " '312689 - Town of Dewitt',\n",
       " '312801 - Village of Elbridge (Town of Elbridge)',\n",
       " '312803 - Village of Jordan (Town of Elbridge)',\n",
       " '312889 - Town of Elbridge',\n",
       " '313001 - Village of Fabius',\n",
       " '313089 - Town of Fabius',\n",
       " '313201 - Village of Solvay (Town of Geddes)',\n",
       " '313289 - Town of Geddes',\n",
       " '313400 - Town of Lafayette',\n",
       " '313601 - Village of Baldwinsville (Town of Lysander)',\n",
       " '313689 - Town of Lysander',\n",
       " '313801 - Village of Fayetteville (Town of Manlius)',\n",
       " '313803 - Village of Manlius (Town of Manlius)',\n",
       " '313805 - Village of Minoa (Town of Manlius)',\n",
       " '313889 - Town of Manlius',\n",
       " '314001 - Village of Marcellus',\n",
       " '314089 - Town of Marcellus',\n",
       " '314200 - Town of Onondaga',\n",
       " '314400 - Town of Otisco',\n",
       " '314600 - Town of Pompey',\n",
       " '314801 - Village of Liverpool (Town of Salina)',\n",
       " '314889 - Town of Salina',\n",
       " '315001 - Village of Skaneateles',\n",
       " '315089 - Town of Skaneateles',\n",
       " '315200 - Town of Spafford',\n",
       " '315401 - Village of Tully',\n",
       " '315489 - Town of Tully',\n",
       " '315601 - Village of Baldwinsville (Town of Van Buren)',\n",
       " '315689 - Town of Van Buren'}"
      ]
     },
     "execution_count": 9,
     "metadata": {},
     "output_type": "execute_result"
    }
   ],
   "source": [
    "set(total['Municipality'])"
   ]
  },
  {
   "cell_type": "code",
   "execution_count": 10,
   "metadata": {},
   "outputs": [],
   "source": [
    "total['Municipality Code'] = total['Municipality']"
   ]
  },
  {
   "cell_type": "code",
   "execution_count": 11,
   "metadata": {},
   "outputs": [],
   "source": [
    "total['Municipality Code'] = total['Municipality Code'].replace({'311500 - City of Syracuse':'311500',\n",
    " '312001 - Village of Camillus':'312000',\n",
    " '312089 - Town of Camillus':'312000',\n",
    " '312201 - Village of North Syracuse (Town of Cicero)':'312200',\n",
    " '312289 - Town of Cicero':'312200',\n",
    " '312401 - Village of North Syracuse (Town of Clay)':'312400',\n",
    " '312489 - Town of Clay':'312400',\n",
    " '312601 - Village of East Syracuse (Town of Dewitt)':'312600',\n",
    " '312689 - Town of Dewitt':'312600',\n",
    " '312801 - Village of Elbridge (Town of Elbridge)':'312800',\n",
    " '312803 - Village of Jordan (Town of Elbridge)':'312800',\n",
    " '312889 - Town of Elbridge':'312800',\n",
    " '313001 - Village of Fabius':'313000',\n",
    " '313089 - Town of Fabius':'313000',\n",
    " '313201 - Village of Solvay (Town of Geddes)':'313200',\n",
    " '313289 - Town of Geddes':'313200',\n",
    " '313400 - Town of Lafayette':'313400',\n",
    " '313601 - Village of Baldwinsville (Town of Lysander)':'313600',\n",
    " '313689 - Town of Lysander':'313600',\n",
    " '313801 - Village of Fayetteville (Town of Manlius)':'313800',\n",
    " '313803 - Village of Manlius (Town of Manlius)':'313800',\n",
    " '313805 - Village of Minoa (Town of Manlius)':'313800',\n",
    " '313889 - Town of Manlius':'313800',\n",
    " '314001 - Village of Marcellus':'314000',\n",
    " '314089 - Town of Marcellus':'314000',\n",
    " '314200 - Town of Onondaga':'314200',\n",
    " '314400 - Town of Otisco':'314400',\n",
    " '314600 - Town of Pompey':'314600',\n",
    " '314801 - Village of Liverpool (Town of Salina)':'314800',\n",
    " '314889 - Town of Salina':'314800',\n",
    " '315001 - Village of Skaneateles':'315000',\n",
    " '315089 - Town of Skaneateles':'315000',\n",
    " '315200 - Town of Spafford':'315200',\n",
    " '315401 - Village of Tully':'315200',\n",
    " '315489 - Town of Tully':'315400',\n",
    " '315601 - Village of Baldwinsville (Town of Van Buren)':'315400',\n",
    " '315689 - Town of Van Buren':'315600'\n",
    " })"
   ]
  },
  {
   "cell_type": "markdown",
   "metadata": {},
   "source": [
    "Now that we have all the columns we need, I'll merge it with the state data. The reason I got the onondaga county data from online is that the state data still has not been updated. I.E the house I own is still in the former owner's name. So we will match for the assement and property type using Key Map, which is the School Code and the SWIS Code."
   ]
  },
  {
   "cell_type": "code",
   "execution_count": 12,
   "metadata": {},
   "outputs": [
    {
     "data": {
      "text/html": [
       "<div>\n",
       "<style scoped>\n",
       "    .dataframe tbody tr th:only-of-type {\n",
       "        vertical-align: middle;\n",
       "    }\n",
       "\n",
       "    .dataframe tbody tr th {\n",
       "        vertical-align: top;\n",
       "    }\n",
       "\n",
       "    .dataframe thead th {\n",
       "        text-align: right;\n",
       "    }\n",
       "</style>\n",
       "<table border=\"1\" class=\"dataframe\">\n",
       "  <thead>\n",
       "    <tr style=\"text-align: right;\">\n",
       "      <th></th>\n",
       "      <th>Municipality Code</th>\n",
       "      <th>Municipality Name</th>\n",
       "      <th>School District Code</th>\n",
       "      <th>School District Name</th>\n",
       "      <th>SWIS Code</th>\n",
       "      <th>Property Class</th>\n",
       "      <th>Property Class Description</th>\n",
       "      <th>Print Key Code</th>\n",
       "      <th>Parcel Address Number</th>\n",
       "      <th>Parcel Address Street</th>\n",
       "      <th>Parcel Address Suff</th>\n",
       "      <th>Grid Coordinates East</th>\n",
       "      <th>Grid Coordinates North</th>\n",
       "      <th>Primary Owner First Name</th>\n",
       "      <th>Primary Owner Last Name</th>\n",
       "      <th>Full Market Value</th>\n",
       "      <th>Assessment Land</th>\n",
       "      <th>Assessment Total</th>\n",
       "      <th>County Taxable Value</th>\n",
       "      <th>Town Taxable Value</th>\n",
       "      <th>School Taxable</th>\n",
       "    </tr>\n",
       "  </thead>\n",
       "  <tbody>\n",
       "    <tr>\n",
       "      <th>0</th>\n",
       "      <td>311500</td>\n",
       "      <td>Syracuse</td>\n",
       "      <td>311500</td>\n",
       "      <td>Syracuse</td>\n",
       "      <td>311500</td>\n",
       "      <td>474.0</td>\n",
       "      <td>Billboards</td>\n",
       "      <td>001.1-01-03.0</td>\n",
       "      <td>635</td>\n",
       "      <td>Seventh North St &amp; Bear T</td>\n",
       "      <td>NaN</td>\n",
       "      <td>612137</td>\n",
       "      <td>1123884</td>\n",
       "      <td>NaN</td>\n",
       "      <td>Cooper Crouse-Hinds LLC</td>\n",
       "      <td>330738</td>\n",
       "      <td>242100</td>\n",
       "      <td>246400</td>\n",
       "      <td>246400</td>\n",
       "      <td>246400</td>\n",
       "      <td>246400</td>\n",
       "    </tr>\n",
       "    <tr>\n",
       "      <th>1</th>\n",
       "      <td>311500</td>\n",
       "      <td>Syracuse</td>\n",
       "      <td>311500</td>\n",
       "      <td>Syracuse</td>\n",
       "      <td>311500</td>\n",
       "      <td>449.0</td>\n",
       "      <td>Other Storage, Warehouse and Distribution Faci...</td>\n",
       "      <td>001.1-01-04.0</td>\n",
       "      <td>1025-57</td>\n",
       "      <td>Hiawatha Blvd E &amp; Seventh</td>\n",
       "      <td>NaN</td>\n",
       "      <td>613187</td>\n",
       "      <td>1123557</td>\n",
       "      <td>NaN</td>\n",
       "      <td>Mic-Ran LLC</td>\n",
       "      <td>2416107</td>\n",
       "      <td>674900</td>\n",
       "      <td>1800000</td>\n",
       "      <td>1800000</td>\n",
       "      <td>1800000</td>\n",
       "      <td>1800000</td>\n",
       "    </tr>\n",
       "  </tbody>\n",
       "</table>\n",
       "</div>"
      ],
      "text/plain": [
       "  Municipality Code Municipality Name School District Code  \\\n",
       "0            311500          Syracuse               311500   \n",
       "1            311500          Syracuse               311500   \n",
       "\n",
       "  School District Name  SWIS Code  Property Class  \\\n",
       "0             Syracuse     311500           474.0   \n",
       "1             Syracuse     311500           449.0   \n",
       "\n",
       "                          Property Class Description Print Key Code  \\\n",
       "0                                         Billboards  001.1-01-03.0   \n",
       "1  Other Storage, Warehouse and Distribution Faci...  001.1-01-04.0   \n",
       "\n",
       "  Parcel Address Number      Parcel Address Street Parcel Address Suff  \\\n",
       "0                   635  Seventh North St & Bear T                 NaN   \n",
       "1               1025-57  Hiawatha Blvd E & Seventh                 NaN   \n",
       "\n",
       "   Grid Coordinates East  Grid Coordinates North Primary Owner First Name  \\\n",
       "0                 612137                 1123884                      NaN   \n",
       "1                 613187                 1123557                      NaN   \n",
       "\n",
       "   Primary Owner Last Name  Full Market Value  Assessment Land  \\\n",
       "0  Cooper Crouse-Hinds LLC             330738           242100   \n",
       "1              Mic-Ran LLC            2416107           674900   \n",
       "\n",
       "   Assessment Total  County Taxable Value  Town Taxable Value  School Taxable  \n",
       "0            246400                246400              246400          246400  \n",
       "1           1800000               1800000             1800000         1800000  "
      ]
     },
     "execution_count": 12,
     "metadata": {},
     "output_type": "execute_result"
    }
   ],
   "source": [
    "asses.head(2)"
   ]
  },
  {
   "cell_type": "code",
   "execution_count": 13,
   "metadata": {},
   "outputs": [],
   "source": [
    "asses['Key Map'] = asses['Municipality Code'] + asses['Print Key Code']"
   ]
  },
  {
   "cell_type": "code",
   "execution_count": 14,
   "metadata": {},
   "outputs": [],
   "source": [
    "total['Key Map'] = total['Municipality Code'] + total['Tax ID']"
   ]
  },
  {
   "cell_type": "code",
   "execution_count": 15,
   "metadata": {},
   "outputs": [],
   "source": [
    "total = total.merge(asses[['Key Map','Municipality Name','Property Class','Property Class Description','Full Market Value', 'Assessment Land', 'Assessment Total', 'Grid Coordinates East', 'Grid Coordinates North']], how='left', on='Key Map')"
   ]
  },
  {
   "cell_type": "code",
   "execution_count": 16,
   "metadata": {},
   "outputs": [
    {
     "data": {
      "text/plain": [
       "index                              0\n",
       "Prop Number                   141396\n",
       "Municipality                       0\n",
       "Tax ID                             0\n",
       "Owner                              1\n",
       "Street Number                  14881\n",
       "Street Name                      446\n",
       "key                                0\n",
       "Key Map                            0\n",
       "Index                          41561\n",
       "Prop Address                   41561\n",
       "Owner Name                     41567\n",
       "Org Tax                            0\n",
       "City_Tax                        7880\n",
       "County_Tax                     29664\n",
       "Municipality Code                  0\n",
       "Municipality Name               1308\n",
       "Property Class                  1308\n",
       "Property Class Description      1308\n",
       "Full Market Value               1308\n",
       "Assessment Land                 1308\n",
       "Assessment Total                1308\n",
       "Grid Coordinates East           1308\n",
       "Grid Coordinates North          1308\n",
       "dtype: int64"
      ]
     },
     "execution_count": 16,
     "metadata": {},
     "output_type": "execute_result"
    }
   ],
   "source": [
    "total.isnull().sum()"
   ]
  },
  {
   "cell_type": "code",
   "execution_count": 17,
   "metadata": {},
   "outputs": [],
   "source": [
    "errors = total.loc[total['Municipality Name'].isna()]"
   ]
  },
  {
   "cell_type": "code",
   "execution_count": 18,
   "metadata": {},
   "outputs": [],
   "source": [
    "total = total.loc[~total['Municipality Name'].isna()]"
   ]
  },
  {
   "cell_type": "code",
   "execution_count": 19,
   "metadata": {},
   "outputs": [
    {
     "data": {
      "text/plain": [
       "index                              0\n",
       "Prop Number                   140176\n",
       "Municipality                       0\n",
       "Tax ID                             0\n",
       "Owner                              1\n",
       "Street Number                  14708\n",
       "Street Name                      443\n",
       "key                                0\n",
       "Key Map                            0\n",
       "Index                          41473\n",
       "Prop Address                   41473\n",
       "Owner Name                     41479\n",
       "Org Tax                            0\n",
       "City_Tax                        7792\n",
       "County_Tax                     29576\n",
       "Municipality Code                  0\n",
       "Municipality Name                  0\n",
       "Property Class                     0\n",
       "Property Class Description         0\n",
       "Full Market Value                  0\n",
       "Assessment Land                    0\n",
       "Assessment Total                   0\n",
       "Grid Coordinates East              0\n",
       "Grid Coordinates North             0\n",
       "dtype: int64"
      ]
     },
     "execution_count": 19,
     "metadata": {},
     "output_type": "execute_result"
    }
   ],
   "source": [
    "total.isnull().sum()"
   ]
  },
  {
   "cell_type": "markdown",
   "metadata": {},
   "source": [
    "When digging into some of the reasons that there were errors, the biggest is that the map key was different between nys and Syracuses data, but that the addresses were similar. So I will take advantage of Fuzzy Matcher to match up tax ids, street numberm and street name to fill in the NAs"
   ]
  },
  {
   "cell_type": "code",
   "execution_count": 20,
   "metadata": {},
   "outputs": [],
   "source": [
    "import fuzzymatcher\n",
    "left_on = ['Tax ID', 'Street Number','Street Name']\n",
    "right_on = ['Print Key Code', 'Parcel Address Number','Parcel Address Street']\n",
    "\n",
    "match = fuzzymatcher.fuzzy_left_join(errors, \n",
    "                             asses,\n",
    "                             left_on,\n",
    "                             right_on)"
   ]
  },
  {
   "cell_type": "code",
   "execution_count": 21,
   "metadata": {},
   "outputs": [
    {
     "data": {
      "text/html": [
       "<div>\n",
       "<style scoped>\n",
       "    .dataframe tbody tr th:only-of-type {\n",
       "        vertical-align: middle;\n",
       "    }\n",
       "\n",
       "    .dataframe tbody tr th {\n",
       "        vertical-align: top;\n",
       "    }\n",
       "\n",
       "    .dataframe thead th {\n",
       "        text-align: right;\n",
       "    }\n",
       "</style>\n",
       "<table border=\"1\" class=\"dataframe\">\n",
       "  <thead>\n",
       "    <tr style=\"text-align: right;\">\n",
       "      <th></th>\n",
       "      <th>best_match_score</th>\n",
       "      <th>__id_left</th>\n",
       "      <th>__id_right</th>\n",
       "      <th>index</th>\n",
       "      <th>Prop Number</th>\n",
       "      <th>Municipality</th>\n",
       "      <th>Tax ID</th>\n",
       "      <th>Owner</th>\n",
       "      <th>Street Number</th>\n",
       "      <th>Street Name</th>\n",
       "      <th>key</th>\n",
       "      <th>Key Map_left</th>\n",
       "      <th>Index</th>\n",
       "      <th>Prop Address</th>\n",
       "      <th>Owner Name</th>\n",
       "      <th>Org Tax</th>\n",
       "      <th>City_Tax</th>\n",
       "      <th>County_Tax</th>\n",
       "      <th>Municipality Code_left</th>\n",
       "      <th>Municipality Name_left</th>\n",
       "      <th>Property Class_left</th>\n",
       "      <th>Property Class Description_left</th>\n",
       "      <th>Full Market Value_left</th>\n",
       "      <th>Assessment Land_left</th>\n",
       "      <th>Assessment Total_left</th>\n",
       "      <th>Grid Coordinates East_left</th>\n",
       "      <th>Grid Coordinates North_left</th>\n",
       "      <th>Municipality Code_right</th>\n",
       "      <th>Municipality Name_right</th>\n",
       "      <th>School District Code</th>\n",
       "      <th>School District Name</th>\n",
       "      <th>SWIS Code</th>\n",
       "      <th>Property Class_right</th>\n",
       "      <th>Property Class Description_right</th>\n",
       "      <th>Print Key Code</th>\n",
       "      <th>Parcel Address Number</th>\n",
       "      <th>Parcel Address Street</th>\n",
       "      <th>Parcel Address Suff</th>\n",
       "      <th>Grid Coordinates East_right</th>\n",
       "      <th>Grid Coordinates North_right</th>\n",
       "      <th>Primary Owner First Name</th>\n",
       "      <th>Primary Owner Last Name</th>\n",
       "      <th>Full Market Value_right</th>\n",
       "      <th>Assessment Land_right</th>\n",
       "      <th>Assessment Total_right</th>\n",
       "      <th>County Taxable Value</th>\n",
       "      <th>Town Taxable Value</th>\n",
       "      <th>School Taxable</th>\n",
       "      <th>Key Map_right</th>\n",
       "    </tr>\n",
       "  </thead>\n",
       "  <tbody>\n",
       "    <tr>\n",
       "      <th>139826</th>\n",
       "      <td>1.225810</td>\n",
       "      <td>1299_left</td>\n",
       "      <td>178415_right</td>\n",
       "      <td>277383</td>\n",
       "      <td>NaN</td>\n",
       "      <td>315601 - Village of Baldwinsville (Town of Van...</td>\n",
       "      <td>656.001-9999-132.350/2883</td>\n",
       "      <td>Niagara Mohawk dba Nat'l Grid</td>\n",
       "      <td>NaN</td>\n",
       "      <td>Gas Distribution</td>\n",
       "      <td>315601</td>\n",
       "      <td>315400656.001-9999-132.350/2883</td>\n",
       "      <td>144545.0</td>\n",
       "      <td>gas distribution baldwinsville      -</td>\n",
       "      <td>Niagara Mohawk Dba Nat'L Grid</td>\n",
       "      <td>1621.05</td>\n",
       "      <td>729.47</td>\n",
       "      <td>891.58</td>\n",
       "      <td>315400</td>\n",
       "      <td>NaN</td>\n",
       "      <td>NaN</td>\n",
       "      <td>NaN</td>\n",
       "      <td>NaN</td>\n",
       "      <td>NaN</td>\n",
       "      <td>NaN</td>\n",
       "      <td>NaN</td>\n",
       "      <td>NaN</td>\n",
       "      <td>315600</td>\n",
       "      <td>Van Buren</td>\n",
       "      <td>313601</td>\n",
       "      <td>Baldwinsville</td>\n",
       "      <td>315601</td>\n",
       "      <td>885.0</td>\n",
       "      <td>Gas Distribution (Outside Plant Property)</td>\n",
       "      <td>656.001-9999-132.350/2883</td>\n",
       "      <td>NaN</td>\n",
       "      <td>Gas Distribution</td>\n",
       "      <td>NaN</td>\n",
       "      <td>0</td>\n",
       "      <td>0</td>\n",
       "      <td>NaN</td>\n",
       "      <td>Niagara Mohawk dba Nat'l Grid</td>\n",
       "      <td>185626</td>\n",
       "      <td>0</td>\n",
       "      <td>185626</td>\n",
       "      <td>185626</td>\n",
       "      <td>185626</td>\n",
       "      <td>185626</td>\n",
       "      <td>315600656.001-9999-132.350/2883</td>\n",
       "    </tr>\n",
       "    <tr>\n",
       "      <th>139823</th>\n",
       "      <td>1.212408</td>\n",
       "      <td>1296_left</td>\n",
       "      <td>178412_right</td>\n",
       "      <td>277377</td>\n",
       "      <td>NaN</td>\n",
       "      <td>315601 - Village of Baldwinsville (Town of Van...</td>\n",
       "      <td>656.001-9999-132.350/1013</td>\n",
       "      <td>Niagara Mohawk dba Nat'l Grid</td>\n",
       "      <td>NaN</td>\n",
       "      <td>Electric Transmission</td>\n",
       "      <td>315601</td>\n",
       "      <td>315400656.001-9999-132.350/1013</td>\n",
       "      <td>144538.0</td>\n",
       "      <td>electric transmission baldwinsville      -</td>\n",
       "      <td>Niagara Mohawk Dba Nat'L Grid</td>\n",
       "      <td>125.22</td>\n",
       "      <td>56.35</td>\n",
       "      <td>68.87</td>\n",
       "      <td>315400</td>\n",
       "      <td>NaN</td>\n",
       "      <td>NaN</td>\n",
       "      <td>NaN</td>\n",
       "      <td>NaN</td>\n",
       "      <td>NaN</td>\n",
       "      <td>NaN</td>\n",
       "      <td>NaN</td>\n",
       "      <td>NaN</td>\n",
       "      <td>315600</td>\n",
       "      <td>Van Buren</td>\n",
       "      <td>313601</td>\n",
       "      <td>Baldwinsville</td>\n",
       "      <td>315601</td>\n",
       "      <td>882.0</td>\n",
       "      <td>Electric Transmission</td>\n",
       "      <td>656.001-9999-132.350/1013</td>\n",
       "      <td>NaN</td>\n",
       "      <td>Electric Transmission</td>\n",
       "      <td>NaN</td>\n",
       "      <td>0</td>\n",
       "      <td>0</td>\n",
       "      <td>NaN</td>\n",
       "      <td>Niagara Mohawk dba Nat'l Grid</td>\n",
       "      <td>14339</td>\n",
       "      <td>0</td>\n",
       "      <td>14339</td>\n",
       "      <td>14339</td>\n",
       "      <td>14339</td>\n",
       "      <td>14339</td>\n",
       "      <td>315600656.001-9999-132.350/1013</td>\n",
       "    </tr>\n",
       "    <tr>\n",
       "      <th>139824</th>\n",
       "      <td>1.206538</td>\n",
       "      <td>1297_left</td>\n",
       "      <td>178413_right</td>\n",
       "      <td>277379</td>\n",
       "      <td>NaN</td>\n",
       "      <td>315601 - Village of Baldwinsville (Town of Van...</td>\n",
       "      <td>656.001-9999-132.350/1023</td>\n",
       "      <td>Niagara Mohawk dba Nat'l Grid</td>\n",
       "      <td>NaN</td>\n",
       "      <td>Electric Transmission</td>\n",
       "      <td>315601</td>\n",
       "      <td>315400656.001-9999-132.350/1023</td>\n",
       "      <td>150342.0</td>\n",
       "      <td>electric transmission van buren      -</td>\n",
       "      <td>Niagara Mohawk Dba Nat'L Grid</td>\n",
       "      <td>123.13</td>\n",
       "      <td>55.41</td>\n",
       "      <td>67.72</td>\n",
       "      <td>315400</td>\n",
       "      <td>NaN</td>\n",
       "      <td>NaN</td>\n",
       "      <td>NaN</td>\n",
       "      <td>NaN</td>\n",
       "      <td>NaN</td>\n",
       "      <td>NaN</td>\n",
       "      <td>NaN</td>\n",
       "      <td>NaN</td>\n",
       "      <td>315600</td>\n",
       "      <td>Van Buren</td>\n",
       "      <td>313601</td>\n",
       "      <td>Baldwinsville</td>\n",
       "      <td>315601</td>\n",
       "      <td>882.0</td>\n",
       "      <td>Electric Transmission</td>\n",
       "      <td>656.001-9999-132.350/1023</td>\n",
       "      <td>NaN</td>\n",
       "      <td>Electric Transmission</td>\n",
       "      <td>NaN</td>\n",
       "      <td>0</td>\n",
       "      <td>0</td>\n",
       "      <td>NaN</td>\n",
       "      <td>Niagara Mohawk dba Nat'l Grid</td>\n",
       "      <td>14099</td>\n",
       "      <td>0</td>\n",
       "      <td>14099</td>\n",
       "      <td>14099</td>\n",
       "      <td>14099</td>\n",
       "      <td>14099</td>\n",
       "      <td>315600656.001-9999-132.350/1023</td>\n",
       "    </tr>\n",
       "  </tbody>\n",
       "</table>\n",
       "</div>"
      ],
      "text/plain": [
       "        best_match_score  __id_left    __id_right   index Prop Number  \\\n",
       "139826          1.225810  1299_left  178415_right  277383         NaN   \n",
       "139823          1.212408  1296_left  178412_right  277377         NaN   \n",
       "139824          1.206538  1297_left  178413_right  277379         NaN   \n",
       "\n",
       "                                             Municipality  \\\n",
       "139826  315601 - Village of Baldwinsville (Town of Van...   \n",
       "139823  315601 - Village of Baldwinsville (Town of Van...   \n",
       "139824  315601 - Village of Baldwinsville (Town of Van...   \n",
       "\n",
       "                           Tax ID                          Owner  \\\n",
       "139826  656.001-9999-132.350/2883  Niagara Mohawk dba Nat'l Grid   \n",
       "139823  656.001-9999-132.350/1013  Niagara Mohawk dba Nat'l Grid   \n",
       "139824  656.001-9999-132.350/1023  Niagara Mohawk dba Nat'l Grid   \n",
       "\n",
       "       Street Number            Street Name     key  \\\n",
       "139826           NaN       Gas Distribution  315601   \n",
       "139823           NaN  Electric Transmission  315601   \n",
       "139824           NaN  Electric Transmission  315601   \n",
       "\n",
       "                           Key Map_left     Index  \\\n",
       "139826  315400656.001-9999-132.350/2883  144545.0   \n",
       "139823  315400656.001-9999-132.350/1013  144538.0   \n",
       "139824  315400656.001-9999-132.350/1023  150342.0   \n",
       "\n",
       "                                       Prop Address  \\\n",
       "139826        gas distribution baldwinsville      -   \n",
       "139823   electric transmission baldwinsville      -   \n",
       "139824       electric transmission van buren      -   \n",
       "\n",
       "                           Owner Name  Org Tax  City_Tax  County_Tax  \\\n",
       "139826  Niagara Mohawk Dba Nat'L Grid  1621.05    729.47      891.58   \n",
       "139823  Niagara Mohawk Dba Nat'L Grid   125.22     56.35       68.87   \n",
       "139824  Niagara Mohawk Dba Nat'L Grid   123.13     55.41       67.72   \n",
       "\n",
       "       Municipality Code_left Municipality Name_left  Property Class_left  \\\n",
       "139826                 315400                    NaN                  NaN   \n",
       "139823                 315400                    NaN                  NaN   \n",
       "139824                 315400                    NaN                  NaN   \n",
       "\n",
       "       Property Class Description_left  Full Market Value_left  \\\n",
       "139826                             NaN                     NaN   \n",
       "139823                             NaN                     NaN   \n",
       "139824                             NaN                     NaN   \n",
       "\n",
       "        Assessment Land_left  Assessment Total_left  \\\n",
       "139826                   NaN                    NaN   \n",
       "139823                   NaN                    NaN   \n",
       "139824                   NaN                    NaN   \n",
       "\n",
       "        Grid Coordinates East_left  Grid Coordinates North_left  \\\n",
       "139826                         NaN                          NaN   \n",
       "139823                         NaN                          NaN   \n",
       "139824                         NaN                          NaN   \n",
       "\n",
       "       Municipality Code_right Municipality Name_right School District Code  \\\n",
       "139826                  315600               Van Buren               313601   \n",
       "139823                  315600               Van Buren               313601   \n",
       "139824                  315600               Van Buren               313601   \n",
       "\n",
       "       School District Name  SWIS Code  Property Class_right  \\\n",
       "139826        Baldwinsville     315601                 885.0   \n",
       "139823        Baldwinsville     315601                 882.0   \n",
       "139824        Baldwinsville     315601                 882.0   \n",
       "\n",
       "                 Property Class Description_right             Print Key Code  \\\n",
       "139826  Gas Distribution (Outside Plant Property)  656.001-9999-132.350/2883   \n",
       "139823                      Electric Transmission  656.001-9999-132.350/1013   \n",
       "139824                      Electric Transmission  656.001-9999-132.350/1023   \n",
       "\n",
       "       Parcel Address Number  Parcel Address Street Parcel Address Suff  \\\n",
       "139826                   NaN       Gas Distribution                 NaN   \n",
       "139823                   NaN  Electric Transmission                 NaN   \n",
       "139824                   NaN  Electric Transmission                 NaN   \n",
       "\n",
       "        Grid Coordinates East_right  Grid Coordinates North_right  \\\n",
       "139826                            0                             0   \n",
       "139823                            0                             0   \n",
       "139824                            0                             0   \n",
       "\n",
       "       Primary Owner First Name        Primary Owner Last Name  \\\n",
       "139826                      NaN  Niagara Mohawk dba Nat'l Grid   \n",
       "139823                      NaN  Niagara Mohawk dba Nat'l Grid   \n",
       "139824                      NaN  Niagara Mohawk dba Nat'l Grid   \n",
       "\n",
       "        Full Market Value_right  Assessment Land_right  \\\n",
       "139826                   185626                      0   \n",
       "139823                    14339                      0   \n",
       "139824                    14099                      0   \n",
       "\n",
       "        Assessment Total_right  County Taxable Value  Town Taxable Value  \\\n",
       "139826                  185626                185626              185626   \n",
       "139823                   14339                 14339               14339   \n",
       "139824                   14099                 14099               14099   \n",
       "\n",
       "        School Taxable                    Key Map_right  \n",
       "139826          185626  315600656.001-9999-132.350/2883  \n",
       "139823           14339  315600656.001-9999-132.350/1013  \n",
       "139824           14099  315600656.001-9999-132.350/1023  "
      ]
     },
     "execution_count": 21,
     "metadata": {},
     "output_type": "execute_result"
    }
   ],
   "source": [
    "match.sort_values(by='best_match_score', ascending=False).head(3)"
   ]
  },
  {
   "cell_type": "code",
   "execution_count": 22,
   "metadata": {},
   "outputs": [],
   "source": [
    "match.columns = match.columns.str.replace('_right', '')"
   ]
  },
  {
   "cell_type": "code",
   "execution_count": 23,
   "metadata": {},
   "outputs": [],
   "source": [
    "match_clean = match[['index', 'Prop Number', 'Municipality', 'Tax ID', 'Owner',\n",
    "       'Street Number', 'Street Name', 'key', 'Key Map', 'Index',\n",
    "       'Prop Address', 'Owner Name', 'Org Tax', 'City_Tax', 'County_Tax',\n",
    "       'Municipality Code', 'Municipality Name', 'Property Class',\n",
    "       'Property Class Description', 'Full Market Value', 'Assessment Land',\n",
    "       'Assessment Total', 'Grid Coordinates East', 'Grid Coordinates North']]"
   ]
  },
  {
   "cell_type": "code",
   "execution_count": 24,
   "metadata": {},
   "outputs": [],
   "source": [
    "total = total.append([match_clean], ignore_index=True, sort=False)"
   ]
  },
  {
   "cell_type": "code",
   "execution_count": 25,
   "metadata": {},
   "outputs": [
    {
     "data": {
      "text/plain": [
       "index                              0\n",
       "Prop Number                   141396\n",
       "Municipality                       0\n",
       "Tax ID                             0\n",
       "Owner                              1\n",
       "Street Number                  14881\n",
       "Street Name                      446\n",
       "key                                0\n",
       "Key Map                            0\n",
       "Index                          41561\n",
       "Prop Address                   41561\n",
       "Owner Name                     41567\n",
       "Org Tax                            0\n",
       "City_Tax                        7880\n",
       "County_Tax                     29664\n",
       "Municipality Code                  0\n",
       "Municipality Name                  0\n",
       "Property Class                     0\n",
       "Property Class Description         0\n",
       "Full Market Value                  0\n",
       "Assessment Land                    0\n",
       "Assessment Total                   0\n",
       "Grid Coordinates East              0\n",
       "Grid Coordinates North             0\n",
       "dtype: int64"
      ]
     },
     "execution_count": 25,
     "metadata": {},
     "output_type": "execute_result"
    }
   ],
   "source": [
    "total.isnull().sum()"
   ]
  },
  {
   "cell_type": "code",
   "execution_count": 26,
   "metadata": {},
   "outputs": [],
   "source": [
    "from stateplane import stateplane as st"
   ]
  },
  {
   "cell_type": "code",
   "execution_count": 127,
   "metadata": {},
   "outputs": [
    {
     "data": {
      "text/plain": [
       "(43.1361256681513, -77.34564888026262)"
      ]
     },
     "execution_count": 127,
     "metadata": {},
     "output_type": "execute_result"
    }
   ],
   "source": [
    "st.to_latlon(easting= total['Grid Coordinates East'][1205], northing=total['Grid Coordinates North'][1205], epsg =\"2261\")"
   ]
  },
  {
   "cell_type": "code",
   "execution_count": 43,
   "metadata": {},
   "outputs": [],
   "source": [
    "c = []\n",
    "d = []"
   ]
  },
  {
   "cell_type": "code",
   "execution_count": 44,
   "metadata": {},
   "outputs": [],
   "source": [
    "for a,b in zip(total['Grid Coordinates East'], total['Grid Coordinates North']): \n",
    "    c.append(st.to_latlon(easting= a, northing=b, epsg =\"2261\")[0])\n",
    "    d.append(st.to_latlon(easting= a, northing=b, epsg =\"2261\")[1])"
   ]
  },
  {
   "cell_type": "code",
   "execution_count": 53,
   "metadata": {},
   "outputs": [],
   "source": [
    "total['lat'] = c\n",
    "total['lon'] = d"
   ]
  },
  {
   "cell_type": "code",
   "execution_count": 55,
   "metadata": {},
   "outputs": [
    {
     "data": {
      "text/html": [
       "<div>\n",
       "<style scoped>\n",
       "    .dataframe tbody tr th:only-of-type {\n",
       "        vertical-align: middle;\n",
       "    }\n",
       "\n",
       "    .dataframe tbody tr th {\n",
       "        vertical-align: top;\n",
       "    }\n",
       "\n",
       "    .dataframe thead th {\n",
       "        text-align: right;\n",
       "    }\n",
       "</style>\n",
       "<table border=\"1\" class=\"dataframe\">\n",
       "  <thead>\n",
       "    <tr style=\"text-align: right;\">\n",
       "      <th></th>\n",
       "      <th>index</th>\n",
       "      <th>Prop Number</th>\n",
       "      <th>Municipality</th>\n",
       "      <th>Tax ID</th>\n",
       "      <th>Owner</th>\n",
       "      <th>Street Number</th>\n",
       "      <th>Street Name</th>\n",
       "      <th>key</th>\n",
       "      <th>Key Map</th>\n",
       "      <th>Index</th>\n",
       "      <th>Prop Address</th>\n",
       "      <th>Owner Name</th>\n",
       "      <th>Org Tax</th>\n",
       "      <th>City_Tax</th>\n",
       "      <th>County_Tax</th>\n",
       "      <th>Municipality Code</th>\n",
       "      <th>Municipality Name</th>\n",
       "      <th>Property Class</th>\n",
       "      <th>Property Class Description</th>\n",
       "      <th>Full Market Value</th>\n",
       "      <th>Assessment Land</th>\n",
       "      <th>Assessment Total</th>\n",
       "      <th>Grid Coordinates East</th>\n",
       "      <th>Grid Coordinates North</th>\n",
       "      <th>lat</th>\n",
       "      <th>lon</th>\n",
       "    </tr>\n",
       "  </thead>\n",
       "  <tbody>\n",
       "    <tr>\n",
       "      <th>0</th>\n",
       "      <td>0</td>\n",
       "      <td>NaN</td>\n",
       "      <td>312001 - Village of Camillus</td>\n",
       "      <td>001.-01-01.0</td>\n",
       "      <td>Hines David A</td>\n",
       "      <td>9</td>\n",
       "      <td>Rolling Hills Rd</td>\n",
       "      <td>312001</td>\n",
       "      <td>312000001.-01-01.0</td>\n",
       "      <td>1.0</td>\n",
       "      <td>9 rolling hills rd camillus 13031-1033</td>\n",
       "      <td>Hines David A</td>\n",
       "      <td>1844.19</td>\n",
       "      <td>829.89</td>\n",
       "      <td>1014.30</td>\n",
       "      <td>312000</td>\n",
       "      <td>Camillus</td>\n",
       "      <td>220.0</td>\n",
       "      <td>Two Family Year-Round Residence</td>\n",
       "      <td>129900.0</td>\n",
       "      <td>31100.0</td>\n",
       "      <td>129900.0</td>\n",
       "      <td>571653.0</td>\n",
       "      <td>1107963.0</td>\n",
       "      <td>43.037073</td>\n",
       "      <td>-77.513049</td>\n",
       "    </tr>\n",
       "    <tr>\n",
       "      <th>1</th>\n",
       "      <td>2</td>\n",
       "      <td>NaN</td>\n",
       "      <td>312401 - Village of North Syracuse (Town of Clay)</td>\n",
       "      <td>001.-01-01.0</td>\n",
       "      <td>Hochenberger Theodore A</td>\n",
       "      <td>106</td>\n",
       "      <td>Linda Rd</td>\n",
       "      <td>312401</td>\n",
       "      <td>312400001.-01-01.0</td>\n",
       "      <td>25984.0</td>\n",
       "      <td>106 linda rd north syracuse      -</td>\n",
       "      <td>Hochenberger Theodore A</td>\n",
       "      <td>1197.96</td>\n",
       "      <td>539.08</td>\n",
       "      <td>658.88</td>\n",
       "      <td>312400</td>\n",
       "      <td>Clay</td>\n",
       "      <td>210.0</td>\n",
       "      <td>One Family Year-Round Residence</td>\n",
       "      <td>119891.0</td>\n",
       "      <td>440.0</td>\n",
       "      <td>4400.0</td>\n",
       "      <td>617693.0</td>\n",
       "      <td>1144458.0</td>\n",
       "      <td>43.138468</td>\n",
       "      <td>-77.342089</td>\n",
       "    </tr>\n",
       "    <tr>\n",
       "      <th>2</th>\n",
       "      <td>3</td>\n",
       "      <td>NaN</td>\n",
       "      <td>312601 - Village of East Syracuse (Town of Dew...</td>\n",
       "      <td>001.-01-01.0</td>\n",
       "      <td>Bott Lawrence K</td>\n",
       "      <td>NaN</td>\n",
       "      <td>James St</td>\n",
       "      <td>312601</td>\n",
       "      <td>312600001.-01-01.0</td>\n",
       "      <td>47965.0</td>\n",
       "      <td>james st east syracuse      -</td>\n",
       "      <td>Bott Lawrence K</td>\n",
       "      <td>71.33</td>\n",
       "      <td>32.10</td>\n",
       "      <td>39.23</td>\n",
       "      <td>312600</td>\n",
       "      <td>Dewitt</td>\n",
       "      <td>311.0</td>\n",
       "      <td>Residential Vacant Land</td>\n",
       "      <td>8000.0</td>\n",
       "      <td>8000.0</td>\n",
       "      <td>8000.0</td>\n",
       "      <td>633053.0</td>\n",
       "      <td>1118810.0</td>\n",
       "      <td>43.068468</td>\n",
       "      <td>-77.283742</td>\n",
       "    </tr>\n",
       "    <tr>\n",
       "      <th>3</th>\n",
       "      <td>4</td>\n",
       "      <td>NaN</td>\n",
       "      <td>312803 - Village of Jordan (Town of Elbridge)</td>\n",
       "      <td>001.-01-01.0</td>\n",
       "      <td>Cook Michael K</td>\n",
       "      <td>127</td>\n",
       "      <td>N Main St</td>\n",
       "      <td>312803</td>\n",
       "      <td>312800001.-01-01.0</td>\n",
       "      <td>60551.0</td>\n",
       "      <td>127 main st jordan 13080-1017</td>\n",
       "      <td>Cook Michael K</td>\n",
       "      <td>816.18</td>\n",
       "      <td>367.28</td>\n",
       "      <td>448.90</td>\n",
       "      <td>312800</td>\n",
       "      <td>Elbridge</td>\n",
       "      <td>210.0</td>\n",
       "      <td>One Family Year-Round Residence</td>\n",
       "      <td>95053.0</td>\n",
       "      <td>8200.0</td>\n",
       "      <td>90300.0</td>\n",
       "      <td>527559.0</td>\n",
       "      <td>1119378.0</td>\n",
       "      <td>43.066929</td>\n",
       "      <td>-77.678511</td>\n",
       "    </tr>\n",
       "    <tr>\n",
       "      <th>4</th>\n",
       "      <td>6</td>\n",
       "      <td>NaN</td>\n",
       "      <td>313400 - Town of Lafayette</td>\n",
       "      <td>001.-01-01.0</td>\n",
       "      <td>Coffin William F</td>\n",
       "      <td>NaN</td>\n",
       "      <td>LaFayette Rd</td>\n",
       "      <td>313400</td>\n",
       "      <td>313400001.-01-01.0</td>\n",
       "      <td>73027.0</td>\n",
       "      <td>lafayette rd lafayette      -</td>\n",
       "      <td>Coffin William F</td>\n",
       "      <td>34.57</td>\n",
       "      <td>15.56</td>\n",
       "      <td>19.01</td>\n",
       "      <td>313400</td>\n",
       "      <td>LaFayette</td>\n",
       "      <td>311.0</td>\n",
       "      <td>Residential Vacant Land</td>\n",
       "      <td>3012.0</td>\n",
       "      <td>2500.0</td>\n",
       "      <td>2500.0</td>\n",
       "      <td>627516.0</td>\n",
       "      <td>1082888.0</td>\n",
       "      <td>42.969783</td>\n",
       "      <td>-77.303309</td>\n",
       "    </tr>\n",
       "  </tbody>\n",
       "</table>\n",
       "</div>"
      ],
      "text/plain": [
       "   index Prop Number                                       Municipality  \\\n",
       "0      0         NaN                       312001 - Village of Camillus   \n",
       "1      2         NaN  312401 - Village of North Syracuse (Town of Clay)   \n",
       "2      3         NaN  312601 - Village of East Syracuse (Town of Dew...   \n",
       "3      4         NaN      312803 - Village of Jordan (Town of Elbridge)   \n",
       "4      6         NaN                         313400 - Town of Lafayette   \n",
       "\n",
       "         Tax ID                    Owner Street Number       Street Name  \\\n",
       "0  001.-01-01.0            Hines David A             9  Rolling Hills Rd   \n",
       "1  001.-01-01.0  Hochenberger Theodore A           106          Linda Rd   \n",
       "2  001.-01-01.0          Bott Lawrence K           NaN          James St   \n",
       "3  001.-01-01.0           Cook Michael K           127         N Main St   \n",
       "4  001.-01-01.0         Coffin William F           NaN      LaFayette Rd   \n",
       "\n",
       "      key             Key Map    Index  \\\n",
       "0  312001  312000001.-01-01.0      1.0   \n",
       "1  312401  312400001.-01-01.0  25984.0   \n",
       "2  312601  312600001.-01-01.0  47965.0   \n",
       "3  312803  312800001.-01-01.0  60551.0   \n",
       "4  313400  313400001.-01-01.0  73027.0   \n",
       "\n",
       "                                      Prop Address               Owner Name  \\\n",
       "0           9 rolling hills rd camillus 13031-1033            Hines David A   \n",
       "1               106 linda rd north syracuse      -  Hochenberger Theodore A   \n",
       "2                    james st east syracuse      -          Bott Lawrence K   \n",
       "3                    127 main st jordan 13080-1017           Cook Michael K   \n",
       "4                    lafayette rd lafayette      -         Coffin William F   \n",
       "\n",
       "   Org Tax  City_Tax  County_Tax Municipality Code Municipality Name  \\\n",
       "0  1844.19    829.89     1014.30            312000          Camillus   \n",
       "1  1197.96    539.08      658.88            312400              Clay   \n",
       "2    71.33     32.10       39.23            312600            Dewitt   \n",
       "3   816.18    367.28      448.90            312800          Elbridge   \n",
       "4    34.57     15.56       19.01            313400         LaFayette   \n",
       "\n",
       "   Property Class       Property Class Description  Full Market Value  \\\n",
       "0           220.0  Two Family Year-Round Residence           129900.0   \n",
       "1           210.0  One Family Year-Round Residence           119891.0   \n",
       "2           311.0          Residential Vacant Land             8000.0   \n",
       "3           210.0  One Family Year-Round Residence            95053.0   \n",
       "4           311.0          Residential Vacant Land             3012.0   \n",
       "\n",
       "   Assessment Land  Assessment Total  Grid Coordinates East  \\\n",
       "0          31100.0          129900.0               571653.0   \n",
       "1            440.0            4400.0               617693.0   \n",
       "2           8000.0            8000.0               633053.0   \n",
       "3           8200.0           90300.0               527559.0   \n",
       "4           2500.0            2500.0               627516.0   \n",
       "\n",
       "   Grid Coordinates North        lat        lon  \n",
       "0               1107963.0  43.037073 -77.513049  \n",
       "1               1144458.0  43.138468 -77.342089  \n",
       "2               1118810.0  43.068468 -77.283742  \n",
       "3               1119378.0  43.066929 -77.678511  \n",
       "4               1082888.0  42.969783 -77.303309  "
      ]
     },
     "execution_count": 55,
     "metadata": {},
     "output_type": "execute_result"
    }
   ],
   "source": [
    "total.head()"
   ]
  },
  {
   "cell_type": "code",
   "execution_count": 56,
   "metadata": {},
   "outputs": [],
   "source": [
    "import os\n",
    "from pandas import ExcelWriter\n",
    "os.chdir(\"C:/Users/\"+ str(os.environ['USERNAME'])+\"/Downloads/\")\n",
    "with ExcelWriter('Syracuse_Homes_Final_Clean_Data.xlsx', date_format='MM/DD/YYYY', datetime_format='MM/DD/YYYY') as writer:\n",
    "    total.to_excel(writer, index=False)"
   ]
  },
  {
   "cell_type": "code",
   "execution_count": null,
   "metadata": {},
   "outputs": [],
   "source": []
  },
  {
   "cell_type": "code",
   "execution_count": null,
   "metadata": {},
   "outputs": [],
   "source": []
  },
  {
   "cell_type": "code",
   "execution_count": null,
   "metadata": {},
   "outputs": [],
   "source": []
  },
  {
   "cell_type": "code",
   "execution_count": null,
   "metadata": {},
   "outputs": [],
   "source": []
  },
  {
   "cell_type": "code",
   "execution_count": null,
   "metadata": {},
   "outputs": [],
   "source": []
  },
  {
   "cell_type": "code",
   "execution_count": null,
   "metadata": {},
   "outputs": [],
   "source": []
  },
  {
   "cell_type": "code",
   "execution_count": null,
   "metadata": {},
   "outputs": [],
   "source": []
  }
 ],
 "metadata": {
  "kernelspec": {
   "display_name": "Python 3",
   "language": "python",
   "name": "python3"
  },
  "language_info": {
   "codemirror_mode": {
    "name": "ipython",
    "version": 3
   },
   "file_extension": ".py",
   "mimetype": "text/x-python",
   "name": "python",
   "nbconvert_exporter": "python",
   "pygments_lexer": "ipython3",
   "version": "3.8.5"
  }
 },
 "nbformat": 4,
 "nbformat_minor": 4
}
