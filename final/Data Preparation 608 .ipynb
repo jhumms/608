{
 "cells": [
  {
   "cell_type": "markdown",
   "metadata": {},
   "source": [
    "# Part One: Getting the list of all Properties"
   ]
  },
  {
   "cell_type": "markdown",
   "metadata": {},
   "source": [
    "First we will set up a script to download all the most up-to-date tax information on properties in Syracuse"
   ]
  },
  {
   "cell_type": "code",
   "execution_count": 2,
   "metadata": {},
   "outputs": [],
   "source": [
    "# Import Library\n",
    "from selenium import webdriver\n",
    "import pandas as pd\n",
    "import time\n",
    "from selenium.webdriver.common.keys import Keys\n",
    "from selenium.webdriver.common.by import By"
   ]
  },
  {
   "cell_type": "code",
   "execution_count": null,
   "metadata": {},
   "outputs": [],
   "source": [
    "# Open Browser\n",
    "driver = webdriver.Chrome(executable_path='C:/Users/humme/Downloads/chromedriver.exe')\n",
    "# Get the  URL\n",
    "url = 'https://ocfintax.ongov.net/Imate/index.aspx'\n",
    "driver.get(url)"
   ]
  },
  {
   "cell_type": "code",
   "execution_count": null,
   "metadata": {},
   "outputs": [],
   "source": [
    "element = driver.find_element(By.ID,value='btnPublicAccess')\n",
    "element.click();\n",
    "\n",
    "element = driver.find_element(By.ID,value='chkAgree')\n",
    "element.click();\n",
    "time.sleep(0.25) #sleep for 250 milliseconds\n",
    "element = driver.find_element(By.ID,value='btnSubmit')\n",
    "element.click();\n",
    "\n",
    "element = driver.find_element(By.ID,value='btnSearch')\n",
    "element.click();"
   ]
  },
  {
   "cell_type": "code",
   "execution_count": null,
   "metadata": {},
   "outputs": [],
   "source": [
    "pages = int(driver.find_element(By.ID,value=\"lblPageCount\").text)\n",
    "converters = {\"Property #\":str}\n",
    "Tax_Database = pd.read_html(driver.find_element(by=By.XPATH, value='//*[@id=\"tblList\"]').get_attribute('outerHTML'), header = 0, converters = converters)[0]"
   ]
  },
  {
   "cell_type": "code",
   "execution_count": null,
   "metadata": {},
   "outputs": [],
   "source": [
    "for i in range(pages-1):\n",
    "        element = driver.find_element(By.ID,value='lnkNextPage')\n",
    "        element.click()\n",
    "        new = pd.read_html(driver.find_element(by=By.XPATH, value='//*[@id=\"tblList\"]').get_attribute('outerHTML'), header = 0, converters = converters)[0]\n",
    "        Tax_Database = pd.concat([Tax_Database, new])\n",
    "        print(len(Tax_Database))\n",
    "        time.sleep(0.25) #sleep for 250 milliseconds"
   ]
  },
  {
   "cell_type": "code",
   "execution_count": null,
   "metadata": {},
   "outputs": [],
   "source": [
    "driver.close()\n",
    "driver.quit()"
   ]
  },
  {
   "cell_type": "code",
   "execution_count": null,
   "metadata": {},
   "outputs": [],
   "source": [
    "import os\n",
    "from pandas import ExcelWriter\n",
    "os.chdir(\"C:/Users/\"+ str(os.environ['USERNAME'])+\"/Downloads/\")\n",
    "with ExcelWriter('syracuse_house_data.xlsx', date_format='MM/DD/YYYY', datetime_format='MM/DD/YYYY') as writer:\n",
    "    Tax_Database.to_excel(writer, index=False)"
   ]
  },
  {
   "cell_type": "markdown",
   "metadata": {},
   "source": [
    "# Part One A:\n",
    "We will clean the data and match it with the data from foil"
   ]
  },
  {
   "cell_type": "code",
   "execution_count": null,
   "metadata": {},
   "outputs": [],
   "source": [
    "foil = pd.read_excel(\"C:/Users/humme/My Drive/CUNY Classes/608 - Knowledge and Visual Analytics/Syracuse_foil_data_2022.xlsx\")"
   ]
  },
  {
   "cell_type": "code",
   "execution_count": null,
   "metadata": {},
   "outputs": [],
   "source": [
    "collect = pd.read_excel(\"C:/Users/humme/Downloads/syracuse_house_data.xlsx\", converters = {\"Property #\":str})"
   ]
  },
  {
   "cell_type": "markdown",
   "metadata": {},
   "source": [
    "Now, let's rename and clean some of these columns as well as check to see what the data looks like."
   ]
  },
  {
   "cell_type": "code",
   "execution_count": null,
   "metadata": {},
   "outputs": [],
   "source": [
    "foil.columns = ['Key Map', 'Index', 'Prop Address', 'Owner Name', 'Org Tax']"
   ]
  },
  {
   "cell_type": "code",
   "execution_count": null,
   "metadata": {},
   "outputs": [],
   "source": [
    "foil['Prop Address'] = foil['Prop Address'].str.lower()"
   ]
  },
  {
   "cell_type": "code",
   "execution_count": null,
   "metadata": {},
   "outputs": [],
   "source": [
    "foil.head()"
   ]
  },
  {
   "cell_type": "code",
   "execution_count": null,
   "metadata": {},
   "outputs": [],
   "source": [
    "collect.columns = ['Prop Number', 'Municipality', 'Tax ID', 'Owner', 'Street Number', \"Street Name\"]"
   ]
  },
  {
   "cell_type": "code",
   "execution_count": null,
   "metadata": {},
   "outputs": [],
   "source": [
    "collect.head()"
   ]
  },
  {
   "cell_type": "markdown",
   "metadata": {},
   "source": [
    "It looks like the Key Map Column is the Municipality number as well as the tax id combined together. So we will create a new column in collect that includes that so we can merge them. "
   ]
  },
  {
   "cell_type": "code",
   "execution_count": null,
   "metadata": {},
   "outputs": [],
   "source": [
    "collect['key'] = collect['Municipality'].str.extract(r'(\\d*([^-]+))')[0]"
   ]
  },
  {
   "cell_type": "code",
   "execution_count": null,
   "metadata": {},
   "outputs": [],
   "source": [
    "collect['Key Map'] = collect['key'] + collect['Tax ID']"
   ]
  },
  {
   "cell_type": "code",
   "execution_count": null,
   "metadata": {},
   "outputs": [],
   "source": [
    "collect['Key Map'] = collect['Key Map'].str.replace(' ', '')"
   ]
  },
  {
   "cell_type": "code",
   "execution_count": null,
   "metadata": {},
   "outputs": [],
   "source": [
    "collect.head()"
   ]
  },
  {
   "cell_type": "markdown",
   "metadata": {},
   "source": [
    "Now that we have the primary key, we can merge the data. And we will check the merge."
   ]
  },
  {
   "cell_type": "code",
   "execution_count": null,
   "metadata": {},
   "outputs": [],
   "source": [
    "combined = collect.merge(foil, how='left', on='Key Map')"
   ]
  },
  {
   "cell_type": "code",
   "execution_count": null,
   "metadata": {},
   "outputs": [],
   "source": [
    "combined.head()"
   ]
  },
  {
   "cell_type": "code",
   "execution_count": null,
   "metadata": {},
   "outputs": [],
   "source": [
    "combined.describe()"
   ]
  },
  {
   "cell_type": "code",
   "execution_count": null,
   "metadata": {},
   "outputs": [],
   "source": [
    "combined.isnull( ).sum()"
   ]
  },
  {
   "cell_type": "code",
   "execution_count": null,
   "metadata": {},
   "outputs": [],
   "source": [
    "combined.nunique()"
   ]
  },
  {
   "cell_type": "markdown",
   "metadata": {},
   "source": [
    "FOIL Told me that they can only give me data for the suburbs and not the city. So we need to check to see if all of the NA Properties for Prop Adress are City Properties. We can do this by seeing if there is an equal number of 'Prop Numbers' as there are NAs. Prop Number was a column unique to city adresses that will also be used to get data online for the tax amount. "
   ]
  },
  {
   "cell_type": "code",
   "execution_count": null,
   "metadata": {},
   "outputs": [],
   "source": [
    "combined_check = combined.loc[combined['Index'].isnull()] "
   ]
  },
  {
   "cell_type": "code",
   "execution_count": null,
   "metadata": {},
   "outputs": [],
   "source": [
    "combined_check.isnull( ).sum()"
   ]
  },
  {
   "cell_type": "markdown",
   "metadata": {},
   "source": [
    "So we have 3k that do no have a prop number to get the information online. First, let's see if there are any city addresses that are blank. "
   ]
  },
  {
   "cell_type": "code",
   "execution_count": null,
   "metadata": {},
   "outputs": [],
   "source": [
    "combined_check['Municipality'].loc[combined_check['Prop Number'].isnull()].value_counts()"
   ]
  },
  {
   "cell_type": "markdown",
   "metadata": {},
   "source": [
    "It does not look like that there aren't any city addresses, only suburbs. When I looked up a few of the houses, I found that they were new construction and still on the market having never paid taxes. We can check this by seeing the more popular streets where the houses are on."
   ]
  },
  {
   "cell_type": "code",
   "execution_count": null,
   "metadata": {},
   "outputs": [],
   "source": [
    "l = pd.DataFrame(combined_check.loc[combined_check['Prop Number'].isnull()].groupby(['Municipality','Street Name']).size().to_frame(name = 'count').reset_index()).sort_values(by = ['Municipality','count'], ascending = False)"
   ]
  },
  {
   "cell_type": "code",
   "execution_count": null,
   "metadata": {},
   "outputs": [],
   "source": [
    "l.loc[l['count'] > 5]"
   ]
  },
  {
   "cell_type": "markdown",
   "metadata": {},
   "source": [
    "It does look like that most are new construction! So we will exclude these from the data set. "
   ]
  },
  {
   "cell_type": "code",
   "execution_count": null,
   "metadata": {},
   "outputs": [],
   "source": [
    "remove_list  = list(combined_check['Key Map'].loc[combined_check['Prop Number'].isnull()])"
   ]
  },
  {
   "cell_type": "code",
   "execution_count": null,
   "metadata": {},
   "outputs": [],
   "source": [
    "len_rem = len(remove_list)\n",
    "len_comb = len(combined)"
   ]
  },
  {
   "cell_type": "code",
   "execution_count": null,
   "metadata": {},
   "outputs": [],
   "source": [
    "combined = combined[~combined['Key Map'].isin(remove_list)]"
   ]
  },
  {
   "cell_type": "code",
   "execution_count": null,
   "metadata": {},
   "outputs": [],
   "source": [
    "len_comb - len_rem == len(combined)"
   ]
  },
  {
   "cell_type": "markdown",
   "metadata": {},
   "source": [
    "Now another issue I noticed is that there might be 2+ people registered to an address that combined will pay taxes. For example, my wife Shwetha and I."
   ]
  },
  {
   "cell_type": "code",
   "execution_count": null,
   "metadata": {},
   "outputs": [],
   "source": [
    "combined.loc[(combined['Street Name'].str.contains(\"Clarendon\")) & (combined['Street Number'].str.contains(\"515\"))]"
   ]
  },
  {
   "cell_type": "code",
   "execution_count": null,
   "metadata": {},
   "outputs": [],
   "source": [
    "combined = combined.drop_duplicates(subset=['Key Map'], keep='first', inplace=False, ignore_index=False).reset_index()"
   ]
  },
  {
   "cell_type": "markdown",
   "metadata": {},
   "source": [
    "Now we will save this dataset and move on to the next step"
   ]
  },
  {
   "cell_type": "code",
   "execution_count": null,
   "metadata": {},
   "outputs": [],
   "source": [
    "import os\n",
    "from pandas import ExcelWriter\n",
    "os.chdir(\"C:/Users/\"+ str(os.environ['USERNAME'])+\"/Downloads/\")\n",
    "with ExcelWriter('syracuse_house_data_combined.xlsx', date_format='MM/DD/YYYY', datetime_format='MM/DD/YYYY') as writer:\n",
    "    combined.to_excel(writer, index=False)"
   ]
  },
  {
   "cell_type": "markdown",
   "metadata": {},
   "source": [
    "# Part Two: Getting the Tax Dollars for City Taxes"
   ]
  },
  {
   "cell_type": "markdown",
   "metadata": {},
   "source": [
    "As mentioned above, there are city houses that do not have county/town taxes so we have to get them and add them to the data"
   ]
  },
  {
   "cell_type": "code",
   "execution_count": null,
   "metadata": {},
   "outputs": [],
   "source": [
    "new = pd.read_excel(\"C:/Users/humme/Downloads/syracuse_house_data_combined.xlsx\", converters = {\"Prop Number\":str})"
   ]
  },
  {
   "cell_type": "code",
   "execution_count": null,
   "metadata": {},
   "outputs": [],
   "source": [
    "s_prop = new.loc[~new['Prop Number'].isnull()]"
   ]
  },
  {
   "cell_type": "code",
   "execution_count": null,
   "metadata": {},
   "outputs": [],
   "source": [
    "s_prop.head()"
   ]
  },
  {
   "cell_type": "code",
   "execution_count": null,
   "metadata": {},
   "outputs": [],
   "source": [
    "s_list = list(set(s_prop['Prop Number']))"
   ]
  },
  {
   "cell_type": "code",
   "execution_count": null,
   "metadata": {},
   "outputs": [],
   "source": [
    "tot = len(set(s_list))"
   ]
  },
  {
   "cell_type": "markdown",
   "metadata": {},
   "source": [
    "I would not recommend running the following code because it took 5+ hours to run (I ran it while asleep)."
   ]
  },
  {
   "cell_type": "code",
   "execution_count": null,
   "metadata": {},
   "outputs": [],
   "source": [
    "# Open Browser\n",
    "tax_amount = []\n",
    "count = 0\n",
    "start1 = time.time()\n",
    "\n",
    "driver = webdriver.Chrome(executable_path='C:/Users/humme/Downloads/chromedriver.exe')\n",
    "\n",
    "for i in s_list:\n",
    "    start = time.time()\n",
    "    url = \"https://syracuse.go2gov.net/faces/accounts?number=\" + str(i) + \"&src=SDG\"\n",
    "    driver.get(url)\n",
    "    count+=1\n",
    "   \n",
    "    \n",
    "    if \"etaxTemplateForm:current1:0:seq1\" in driver.page_source:\n",
    "        element = driver.find_element(By.ID,value='etaxTemplateForm:current1:0:seq1')\n",
    "        element.click();\n",
    "        \n",
    "        Tax_Database = pd.read_html(driver.find_element(by=By.XPATH, value='//*[@id=\"etaxTemplateForm:entities1\"]').get_attribute('outerHTML'), header = 0)[0]\n",
    "        city = Tax_Database['Tax Amount'].loc[Tax_Database['Taxing Purpose']=='CITY'][0]\n",
    "        driver.back()\n",
    "        \n",
    "        Tax_Database = pd.read_html(driver.find_element(by=By.XPATH, value='//*[@id=\"etaxTemplateForm:current1\"]').get_attribute('outerHTML'), header = 0)[0]\n",
    "        county = Tax_Database['Tax Amount'].loc[Tax_Database['Unnamed: 0'].str.contains('County')][1]\n",
    "        tax_amount.append({\n",
    "            'Prod Number': i,\n",
    "            'City_Tax': city,\n",
    "            'County_Tax':county\n",
    "        })\n",
    "    else:\n",
    "        city = 'NA'\n",
    "        county = 'NA'\n",
    "        tax_amount.append({\n",
    "            'Prod Number': i,\n",
    "            'City_Tax': city,\n",
    "            'County_Tax':county\n",
    "        })\n",
    "    print(count,\" | \", tot)\n",
    "\n",
    "pd.DataFrame(tax_amount)"
   ]
  },
  {
   "cell_type": "code",
   "execution_count": null,
   "metadata": {},
   "outputs": [],
   "source": [
    "taxes = pd.DataFrame(tax_amount)"
   ]
  },
  {
   "cell_type": "code",
   "execution_count": null,
   "metadata": {},
   "outputs": [],
   "source": [
    "u_cols = ['City_Tax','County_Tax']\n",
    "for i in u_cols:  \n",
    "    if ',' in  taxes[i]:\n",
    "        taxes[i] = taxes[i].str.replace(',','')\n",
    "        taxes[i] = taxes[i].str.replace('$','')\n",
    "    else:\n",
    "        taxes[i] = taxes[i].str.replace('$','')\n",
    "    \n",
    "for i in u_cols:\n",
    "    taxes[i] = pd.to_numeric(taxes[i], errors='coerce')"
   ]
  },
  {
   "cell_type": "code",
   "execution_count": null,
   "metadata": {},
   "outputs": [],
   "source": [
    "import os\n",
    "from pandas import ExcelWriter\n",
    "os.chdir(\"C:/Users/\"+ str(os.environ['USERNAME'])+\"/Downloads/\")\n",
    "with ExcelWriter('syracuse_house_tax.xlsx', date_format='MM/DD/YYYY', datetime_format='MM/DD/YYYY') as writer:\n",
    "    taxes.to_excel(writer, index=False)"
   ]
  },
  {
   "cell_type": "markdown",
   "metadata": {},
   "source": [
    "# Part 3 More Cleaning and data gathering\n",
    "First, we need to download the data. I have already recieved access through a FOIL request or scraped the data online and the data we got from NYS."
   ]
  },
  {
   "cell_type": "markdown",
   "metadata": {},
   "source": [
    "I had to also get data from NYS so that we can match it up and get the building classifications."
   ]
  },
  {
   "cell_type": "code",
   "execution_count": 3,
   "metadata": {},
   "outputs": [],
   "source": [
    "## Asses is what we got from NYS\n",
    "asses = pd.read_table(\"C:/Users/humme/Downloads/Prop_Assess.csv\", \n",
    "                      encoding='utf-8', \n",
    "                      header=0, \n",
    "                      sep = \",\", \n",
    "                      dtype = {'School District Code':object, 'Municipality Code':object},\n",
    "                      usecols = ['Municipality Code','Municipality Name','School District Code','School District Name','SWIS Code','Property Class','Property Class Description','Print Key Code','Parcel Address Number','Parcel Address Street','Parcel Address Suff','Primary Owner First Name','Primary Owner Last Name','Full Market Value','Assessment Land','Assessment Total','County Taxable Value','Town Taxable Value','School Taxable']\n",
    ")\n",
    "## House Tax is the file we just got from getting all the county - town taxes and prop number\n",
    "tax = pd.read_excel(\"C:/Users/humme/Downloads/syracuse_house_tax.xlsx\", \n",
    "                    converters = {\"Prod Number\":str})\n",
    "\n",
    "## Data combined is from part one and includes the data we originally scraped as well as the foil data\n",
    "total = pd.read_excel(\"C:/Users/humme/Downloads/syracuse_house_data_combined.xlsx\", \n",
    "                      converters = {\"Prop Number\":str})"
   ]
  },
  {
   "cell_type": "code",
   "execution_count": 4,
   "metadata": {},
   "outputs": [],
   "source": [
    "tax = tax.rename(columns={'Prod Number': 'Prop Number'})"
   ]
  },
  {
   "cell_type": "markdown",
   "metadata": {},
   "source": [
    "I want to merge the data file that I have for City Taxes (something I had to create myself) and the out of city numbers that were given in the foil request."
   ]
  },
  {
   "cell_type": "code",
   "execution_count": 5,
   "metadata": {},
   "outputs": [],
   "source": [
    "total = total.merge(tax, how='left', on='Prop Number')"
   ]
  },
  {
   "cell_type": "markdown",
   "metadata": {},
   "source": [
    "now I want to add up the city and county taxes to get the org number that the total has"
   ]
  },
  {
   "cell_type": "code",
   "execution_count": 6,
   "metadata": {},
   "outputs": [
    {
     "name": "stderr",
     "output_type": "stream",
     "text": [
      "C:\\Users\\humme\\anaconda3\\lib\\site-packages\\pandas\\core\\indexing.py:670: SettingWithCopyWarning: \n",
      "A value is trying to be set on a copy of a slice from a DataFrame\n",
      "\n",
      "See the caveats in the documentation: https://pandas.pydata.org/pandas-docs/stable/user_guide/indexing.html#returning-a-view-versus-a-copy\n",
      "  iloc._setitem_with_indexer(indexer, value)\n"
     ]
    }
   ],
   "source": [
    "total['Org Tax'].loc[~total['Prop Number'].isna()] = total['City_Tax'].fillna(0).loc[~total['Prop Number'].isna()] + total['County_Tax'].fillna(0).loc[~total['Prop Number'].isna()]"
   ]
  },
  {
   "cell_type": "code",
   "execution_count": 7,
   "metadata": {},
   "outputs": [
    {
     "data": {
      "text/plain": [
       "{True}"
      ]
     },
     "execution_count": 7,
     "metadata": {},
     "output_type": "execute_result"
    }
   ],
   "source": [
    "set(total['Org Tax'].loc[~total['Prop Number'].isna()] == total['City_Tax'].fillna(0).loc[~total['Prop Number'].isna()] + total['County_Tax'].fillna(0).loc[~total['Prop Number'].isna()])"
   ]
  },
  {
   "cell_type": "markdown",
   "metadata": {},
   "source": [
    "With the QA Above, looks good. Now I will split the org into town and city for the foil request. They informed me that roughly the split is 55% to county and 45% to town/city"
   ]
  },
  {
   "cell_type": "code",
   "execution_count": 9,
   "metadata": {},
   "outputs": [
    {
     "name": "stderr",
     "output_type": "stream",
     "text": [
      "C:\\Users\\humme\\anaconda3\\lib\\site-packages\\pandas\\core\\indexing.py:670: SettingWithCopyWarning: \n",
      "A value is trying to be set on a copy of a slice from a DataFrame\n",
      "\n",
      "See the caveats in the documentation: https://pandas.pydata.org/pandas-docs/stable/user_guide/indexing.html#returning-a-view-versus-a-copy\n",
      "  iloc._setitem_with_indexer(indexer, value)\n"
     ]
    }
   ],
   "source": [
    "total['City_Tax'].loc[total['Prop Number'].isna()] = round(total['Org Tax'].loc[total['Prop Number'].isna()] * .45,2)\n",
    "total['County_Tax'].loc[total['Prop Number'].isna()] = round(total['Org Tax'].loc[total['Prop Number'].isna()] * .55,2)"
   ]
  },
  {
   "cell_type": "code",
   "execution_count": 10,
   "metadata": {},
   "outputs": [
    {
     "data": {
      "text/plain": [
       "{'311500 - City of Syracuse',\n",
       " '312001 - Village of Camillus',\n",
       " '312089 - Town of Camillus',\n",
       " '312201 - Village of North Syracuse (Town of Cicero)',\n",
       " '312289 - Town of Cicero',\n",
       " '312401 - Village of North Syracuse (Town of Clay)',\n",
       " '312489 - Town of Clay',\n",
       " '312601 - Village of East Syracuse (Town of Dewitt)',\n",
       " '312689 - Town of Dewitt',\n",
       " '312801 - Village of Elbridge (Town of Elbridge)',\n",
       " '312803 - Village of Jordan (Town of Elbridge)',\n",
       " '312889 - Town of Elbridge',\n",
       " '313001 - Village of Fabius',\n",
       " '313089 - Town of Fabius',\n",
       " '313201 - Village of Solvay (Town of Geddes)',\n",
       " '313289 - Town of Geddes',\n",
       " '313400 - Town of Lafayette',\n",
       " '313601 - Village of Baldwinsville (Town of Lysander)',\n",
       " '313689 - Town of Lysander',\n",
       " '313801 - Village of Fayetteville (Town of Manlius)',\n",
       " '313803 - Village of Manlius (Town of Manlius)',\n",
       " '313805 - Village of Minoa (Town of Manlius)',\n",
       " '313889 - Town of Manlius',\n",
       " '314001 - Village of Marcellus',\n",
       " '314089 - Town of Marcellus',\n",
       " '314200 - Town of Onondaga',\n",
       " '314400 - Town of Otisco',\n",
       " '314600 - Town of Pompey',\n",
       " '314801 - Village of Liverpool (Town of Salina)',\n",
       " '314889 - Town of Salina',\n",
       " '315001 - Village of Skaneateles',\n",
       " '315089 - Town of Skaneateles',\n",
       " '315200 - Town of Spafford',\n",
       " '315401 - Village of Tully',\n",
       " '315489 - Town of Tully',\n",
       " '315601 - Village of Baldwinsville (Town of Van Buren)',\n",
       " '315689 - Town of Van Buren'}"
      ]
     },
     "execution_count": 10,
     "metadata": {},
     "output_type": "execute_result"
    }
   ],
   "source": [
    "set(total['Municipality'])"
   ]
  },
  {
   "cell_type": "code",
   "execution_count": 11,
   "metadata": {},
   "outputs": [],
   "source": [
    "total['Municipality Code'] = total['Municipality']"
   ]
  },
  {
   "cell_type": "code",
   "execution_count": 12,
   "metadata": {},
   "outputs": [],
   "source": [
    "total['Municipality Code'] = total['Municipality Code'].replace({'311500 - City of Syracuse':'311500',\n",
    " '312001 - Village of Camillus':'312000',\n",
    " '312089 - Town of Camillus':'312000',\n",
    " '312201 - Village of North Syracuse (Town of Cicero)':'312200',\n",
    " '312289 - Town of Cicero':'312200',\n",
    " '312401 - Village of North Syracuse (Town of Clay)':'312400',\n",
    " '312489 - Town of Clay':'312400',\n",
    " '312601 - Village of East Syracuse (Town of Dewitt)':'312600',\n",
    " '312689 - Town of Dewitt':'312600',\n",
    " '312801 - Village of Elbridge (Town of Elbridge)':'312800',\n",
    " '312803 - Village of Jordan (Town of Elbridge)':'312800',\n",
    " '312889 - Town of Elbridge':'312800',\n",
    " '313001 - Village of Fabius':'313000',\n",
    " '313089 - Town of Fabius':'313000',\n",
    " '313201 - Village of Solvay (Town of Geddes)':'313200',\n",
    " '313289 - Town of Geddes':'313200',\n",
    " '313400 - Town of Lafayette':'313400',\n",
    " '313601 - Village of Baldwinsville (Town of Lysander)':'313600',\n",
    " '313689 - Town of Lysander':'313600',\n",
    " '313801 - Village of Fayetteville (Town of Manlius)':'313800',\n",
    " '313803 - Village of Manlius (Town of Manlius)':'313800',\n",
    " '313805 - Village of Minoa (Town of Manlius)':'313800',\n",
    " '313889 - Town of Manlius':'313800',\n",
    " '314001 - Village of Marcellus':'314000',\n",
    " '314089 - Town of Marcellus':'314000',\n",
    " '314200 - Town of Onondaga':'314200',\n",
    " '314400 - Town of Otisco':'314400',\n",
    " '314600 - Town of Pompey':'314600',\n",
    " '314801 - Village of Liverpool (Town of Salina)':'314800',\n",
    " '314889 - Town of Salina':'314800',\n",
    " '315001 - Village of Skaneateles':'315000',\n",
    " '315089 - Town of Skaneateles':'315000',\n",
    " '315200 - Town of Spafford':'315200',\n",
    " '315401 - Village of Tully':'315200',\n",
    " '315489 - Town of Tully':'315400',\n",
    " '315601 - Village of Baldwinsville (Town of Van Buren)':'315400',\n",
    " '315689 - Town of Van Buren':'315600'\n",
    " })"
   ]
  },
  {
   "cell_type": "markdown",
   "metadata": {},
   "source": [
    "Now that we have all the columns we need, I'll merge it with the state data. The reason I got the onondaga county data from online is that the state data still has not been updated. I.E the house I own is still in the former owner's name. So we will match for the assement and property type using Key Map, which is the School Code and the SWIS Code."
   ]
  },
  {
   "cell_type": "code",
   "execution_count": 13,
   "metadata": {},
   "outputs": [
    {
     "data": {
      "text/html": [
       "<div>\n",
       "<style scoped>\n",
       "    .dataframe tbody tr th:only-of-type {\n",
       "        vertical-align: middle;\n",
       "    }\n",
       "\n",
       "    .dataframe tbody tr th {\n",
       "        vertical-align: top;\n",
       "    }\n",
       "\n",
       "    .dataframe thead th {\n",
       "        text-align: right;\n",
       "    }\n",
       "</style>\n",
       "<table border=\"1\" class=\"dataframe\">\n",
       "  <thead>\n",
       "    <tr style=\"text-align: right;\">\n",
       "      <th></th>\n",
       "      <th>Municipality Code</th>\n",
       "      <th>Municipality Name</th>\n",
       "      <th>School District Code</th>\n",
       "      <th>School District Name</th>\n",
       "      <th>SWIS Code</th>\n",
       "      <th>Property Class</th>\n",
       "      <th>Property Class Description</th>\n",
       "      <th>Print Key Code</th>\n",
       "      <th>Parcel Address Number</th>\n",
       "      <th>Parcel Address Street</th>\n",
       "      <th>Parcel Address Suff</th>\n",
       "      <th>Primary Owner First Name</th>\n",
       "      <th>Primary Owner Last Name</th>\n",
       "      <th>Full Market Value</th>\n",
       "      <th>Assessment Land</th>\n",
       "      <th>Assessment Total</th>\n",
       "      <th>County Taxable Value</th>\n",
       "      <th>Town Taxable Value</th>\n",
       "      <th>School Taxable</th>\n",
       "    </tr>\n",
       "  </thead>\n",
       "  <tbody>\n",
       "    <tr>\n",
       "      <th>0</th>\n",
       "      <td>311500</td>\n",
       "      <td>Syracuse</td>\n",
       "      <td>311500</td>\n",
       "      <td>Syracuse</td>\n",
       "      <td>311500</td>\n",
       "      <td>474.0</td>\n",
       "      <td>Billboards</td>\n",
       "      <td>001.1-01-03.0</td>\n",
       "      <td>635</td>\n",
       "      <td>Seventh North St &amp; Bear T</td>\n",
       "      <td>NaN</td>\n",
       "      <td>NaN</td>\n",
       "      <td>Cooper Crouse-Hinds LLC</td>\n",
       "      <td>330738</td>\n",
       "      <td>242100</td>\n",
       "      <td>246400</td>\n",
       "      <td>246400</td>\n",
       "      <td>246400</td>\n",
       "      <td>246400</td>\n",
       "    </tr>\n",
       "    <tr>\n",
       "      <th>1</th>\n",
       "      <td>311500</td>\n",
       "      <td>Syracuse</td>\n",
       "      <td>311500</td>\n",
       "      <td>Syracuse</td>\n",
       "      <td>311500</td>\n",
       "      <td>449.0</td>\n",
       "      <td>Other Storage, Warehouse and Distribution Faci...</td>\n",
       "      <td>001.1-01-04.0</td>\n",
       "      <td>1025-57</td>\n",
       "      <td>Hiawatha Blvd E &amp; Seventh</td>\n",
       "      <td>NaN</td>\n",
       "      <td>NaN</td>\n",
       "      <td>Mic-Ran LLC</td>\n",
       "      <td>2416107</td>\n",
       "      <td>674900</td>\n",
       "      <td>1800000</td>\n",
       "      <td>1800000</td>\n",
       "      <td>1800000</td>\n",
       "      <td>1800000</td>\n",
       "    </tr>\n",
       "  </tbody>\n",
       "</table>\n",
       "</div>"
      ],
      "text/plain": [
       "  Municipality Code Municipality Name School District Code  \\\n",
       "0            311500          Syracuse               311500   \n",
       "1            311500          Syracuse               311500   \n",
       "\n",
       "  School District Name  SWIS Code  Property Class  \\\n",
       "0             Syracuse     311500           474.0   \n",
       "1             Syracuse     311500           449.0   \n",
       "\n",
       "                          Property Class Description Print Key Code  \\\n",
       "0                                         Billboards  001.1-01-03.0   \n",
       "1  Other Storage, Warehouse and Distribution Faci...  001.1-01-04.0   \n",
       "\n",
       "  Parcel Address Number      Parcel Address Street Parcel Address Suff  \\\n",
       "0                   635  Seventh North St & Bear T                 NaN   \n",
       "1               1025-57  Hiawatha Blvd E & Seventh                 NaN   \n",
       "\n",
       "  Primary Owner First Name  Primary Owner Last Name  Full Market Value  \\\n",
       "0                      NaN  Cooper Crouse-Hinds LLC             330738   \n",
       "1                      NaN              Mic-Ran LLC            2416107   \n",
       "\n",
       "   Assessment Land  Assessment Total  County Taxable Value  \\\n",
       "0           242100            246400                246400   \n",
       "1           674900           1800000               1800000   \n",
       "\n",
       "   Town Taxable Value  School Taxable  \n",
       "0              246400          246400  \n",
       "1             1800000         1800000  "
      ]
     },
     "execution_count": 13,
     "metadata": {},
     "output_type": "execute_result"
    }
   ],
   "source": [
    "asses.head(2)"
   ]
  },
  {
   "cell_type": "code",
   "execution_count": 14,
   "metadata": {},
   "outputs": [],
   "source": [
    "asses['Key Map'] = asses['Municipality Code'] + asses['Print Key Code']"
   ]
  },
  {
   "cell_type": "code",
   "execution_count": 15,
   "metadata": {},
   "outputs": [],
   "source": [
    "total['Key Map'] = total['Municipality Code'] + total['Tax ID']"
   ]
  },
  {
   "cell_type": "code",
   "execution_count": 16,
   "metadata": {},
   "outputs": [],
   "source": [
    "total = total.merge(asses[['Key Map','Municipality Name','Property Class','Property Class Description','Full Market Value', 'Assessment Land', 'Assessment Total']], how='left', on='Key Map')"
   ]
  },
  {
   "cell_type": "code",
   "execution_count": 17,
   "metadata": {},
   "outputs": [
    {
     "data": {
      "text/plain": [
       "index                              0\n",
       "Prop Number                   141396\n",
       "Municipality                       0\n",
       "Tax ID                             0\n",
       "Owner                              1\n",
       "Street Number                  14881\n",
       "Street Name                      446\n",
       "key                                0\n",
       "Key Map                            0\n",
       "Index                          41561\n",
       "Prop Address                   41561\n",
       "Owner Name                     41567\n",
       "Org Tax                            0\n",
       "City_Tax                        7880\n",
       "County_Tax                     29664\n",
       "Municipality Code                  0\n",
       "Municipality Name               1308\n",
       "Property Class                  1308\n",
       "Property Class Description      1308\n",
       "Full Market Value               1308\n",
       "Assessment Land                 1308\n",
       "Assessment Total                1308\n",
       "dtype: int64"
      ]
     },
     "execution_count": 17,
     "metadata": {},
     "output_type": "execute_result"
    }
   ],
   "source": [
    "total.isnull().sum()"
   ]
  },
  {
   "cell_type": "code",
   "execution_count": 18,
   "metadata": {},
   "outputs": [],
   "source": [
    "errors = total.loc[total['Municipality Name'].isna()]"
   ]
  },
  {
   "cell_type": "code",
   "execution_count": 19,
   "metadata": {},
   "outputs": [],
   "source": [
    "total = total.loc[~total['Municipality Name'].isna()]"
   ]
  },
  {
   "cell_type": "code",
   "execution_count": 20,
   "metadata": {},
   "outputs": [
    {
     "data": {
      "text/plain": [
       "index                              0\n",
       "Prop Number                   140176\n",
       "Municipality                       0\n",
       "Tax ID                             0\n",
       "Owner                              1\n",
       "Street Number                  14708\n",
       "Street Name                      443\n",
       "key                                0\n",
       "Key Map                            0\n",
       "Index                          41473\n",
       "Prop Address                   41473\n",
       "Owner Name                     41479\n",
       "Org Tax                            0\n",
       "City_Tax                        7792\n",
       "County_Tax                     29576\n",
       "Municipality Code                  0\n",
       "Municipality Name                  0\n",
       "Property Class                     0\n",
       "Property Class Description         0\n",
       "Full Market Value                  0\n",
       "Assessment Land                    0\n",
       "Assessment Total                   0\n",
       "dtype: int64"
      ]
     },
     "execution_count": 20,
     "metadata": {},
     "output_type": "execute_result"
    }
   ],
   "source": [
    "total.isnull().sum()"
   ]
  },
  {
   "cell_type": "markdown",
   "metadata": {},
   "source": [
    "When digging into some of the reasons that there were errors, the biggest is that the map key was different between nys and Syracuses data, but that the addresses were similar. So I will take advantage of Fuzzy Matcher to match up tax ids, street numberm and street name to fill in the NAs"
   ]
  },
  {
   "cell_type": "code",
   "execution_count": 21,
   "metadata": {},
   "outputs": [],
   "source": [
    "import fuzzymatcher\n",
    "left_on = ['Tax ID', 'Street Number','Street Name']\n",
    "right_on = ['Print Key Code', 'Parcel Address Number','Parcel Address Street']\n",
    "\n",
    "match = fuzzymatcher.fuzzy_left_join(errors, \n",
    "                             asses,\n",
    "                             left_on,\n",
    "                             right_on)"
   ]
  },
  {
   "cell_type": "code",
   "execution_count": 22,
   "metadata": {},
   "outputs": [
    {
     "data": {
      "text/html": [
       "<div>\n",
       "<style scoped>\n",
       "    .dataframe tbody tr th:only-of-type {\n",
       "        vertical-align: middle;\n",
       "    }\n",
       "\n",
       "    .dataframe tbody tr th {\n",
       "        vertical-align: top;\n",
       "    }\n",
       "\n",
       "    .dataframe thead th {\n",
       "        text-align: right;\n",
       "    }\n",
       "</style>\n",
       "<table border=\"1\" class=\"dataframe\">\n",
       "  <thead>\n",
       "    <tr style=\"text-align: right;\">\n",
       "      <th></th>\n",
       "      <th>best_match_score</th>\n",
       "      <th>__id_left</th>\n",
       "      <th>__id_right</th>\n",
       "      <th>index</th>\n",
       "      <th>Prop Number</th>\n",
       "      <th>Municipality</th>\n",
       "      <th>Tax ID</th>\n",
       "      <th>Owner</th>\n",
       "      <th>Street Number</th>\n",
       "      <th>Street Name</th>\n",
       "      <th>...</th>\n",
       "      <th>Parcel Address Suff</th>\n",
       "      <th>Primary Owner First Name</th>\n",
       "      <th>Primary Owner Last Name</th>\n",
       "      <th>Full Market Value_right</th>\n",
       "      <th>Assessment Land_right</th>\n",
       "      <th>Assessment Total_right</th>\n",
       "      <th>County Taxable Value</th>\n",
       "      <th>Town Taxable Value</th>\n",
       "      <th>School Taxable</th>\n",
       "      <th>Key Map_right</th>\n",
       "    </tr>\n",
       "  </thead>\n",
       "  <tbody>\n",
       "    <tr>\n",
       "      <th>139772</th>\n",
       "      <td>1.225810</td>\n",
       "      <td>1299_left</td>\n",
       "      <td>178415_right</td>\n",
       "      <td>277383</td>\n",
       "      <td>NaN</td>\n",
       "      <td>315601 - Village of Baldwinsville (Town of Van...</td>\n",
       "      <td>656.001-9999-132.350/2883</td>\n",
       "      <td>Niagara Mohawk dba Nat'l Grid</td>\n",
       "      <td>NaN</td>\n",
       "      <td>Gas Distribution</td>\n",
       "      <td>...</td>\n",
       "      <td>NaN</td>\n",
       "      <td>NaN</td>\n",
       "      <td>Niagara Mohawk dba Nat'l Grid</td>\n",
       "      <td>185626</td>\n",
       "      <td>0</td>\n",
       "      <td>185626</td>\n",
       "      <td>185626</td>\n",
       "      <td>185626</td>\n",
       "      <td>185626</td>\n",
       "      <td>315600656.001-9999-132.350/2883</td>\n",
       "    </tr>\n",
       "    <tr>\n",
       "      <th>139769</th>\n",
       "      <td>1.212408</td>\n",
       "      <td>1296_left</td>\n",
       "      <td>178412_right</td>\n",
       "      <td>277377</td>\n",
       "      <td>NaN</td>\n",
       "      <td>315601 - Village of Baldwinsville (Town of Van...</td>\n",
       "      <td>656.001-9999-132.350/1013</td>\n",
       "      <td>Niagara Mohawk dba Nat'l Grid</td>\n",
       "      <td>NaN</td>\n",
       "      <td>Electric Transmission</td>\n",
       "      <td>...</td>\n",
       "      <td>NaN</td>\n",
       "      <td>NaN</td>\n",
       "      <td>Niagara Mohawk dba Nat'l Grid</td>\n",
       "      <td>14339</td>\n",
       "      <td>0</td>\n",
       "      <td>14339</td>\n",
       "      <td>14339</td>\n",
       "      <td>14339</td>\n",
       "      <td>14339</td>\n",
       "      <td>315600656.001-9999-132.350/1013</td>\n",
       "    </tr>\n",
       "    <tr>\n",
       "      <th>139770</th>\n",
       "      <td>1.206538</td>\n",
       "      <td>1297_left</td>\n",
       "      <td>178413_right</td>\n",
       "      <td>277379</td>\n",
       "      <td>NaN</td>\n",
       "      <td>315601 - Village of Baldwinsville (Town of Van...</td>\n",
       "      <td>656.001-9999-132.350/1023</td>\n",
       "      <td>Niagara Mohawk dba Nat'l Grid</td>\n",
       "      <td>NaN</td>\n",
       "      <td>Electric Transmission</td>\n",
       "      <td>...</td>\n",
       "      <td>NaN</td>\n",
       "      <td>NaN</td>\n",
       "      <td>Niagara Mohawk dba Nat'l Grid</td>\n",
       "      <td>14099</td>\n",
       "      <td>0</td>\n",
       "      <td>14099</td>\n",
       "      <td>14099</td>\n",
       "      <td>14099</td>\n",
       "      <td>14099</td>\n",
       "      <td>315600656.001-9999-132.350/1023</td>\n",
       "    </tr>\n",
       "  </tbody>\n",
       "</table>\n",
       "<p>3 rows × 45 columns</p>\n",
       "</div>"
      ],
      "text/plain": [
       "        best_match_score  __id_left    __id_right   index Prop Number  \\\n",
       "139772          1.225810  1299_left  178415_right  277383         NaN   \n",
       "139769          1.212408  1296_left  178412_right  277377         NaN   \n",
       "139770          1.206538  1297_left  178413_right  277379         NaN   \n",
       "\n",
       "                                             Municipality  \\\n",
       "139772  315601 - Village of Baldwinsville (Town of Van...   \n",
       "139769  315601 - Village of Baldwinsville (Town of Van...   \n",
       "139770  315601 - Village of Baldwinsville (Town of Van...   \n",
       "\n",
       "                           Tax ID                          Owner  \\\n",
       "139772  656.001-9999-132.350/2883  Niagara Mohawk dba Nat'l Grid   \n",
       "139769  656.001-9999-132.350/1013  Niagara Mohawk dba Nat'l Grid   \n",
       "139770  656.001-9999-132.350/1023  Niagara Mohawk dba Nat'l Grid   \n",
       "\n",
       "       Street Number            Street Name  ...  Parcel Address Suff  \\\n",
       "139772           NaN       Gas Distribution  ...                  NaN   \n",
       "139769           NaN  Electric Transmission  ...                  NaN   \n",
       "139770           NaN  Electric Transmission  ...                  NaN   \n",
       "\n",
       "       Primary Owner First Name        Primary Owner Last Name  \\\n",
       "139772                      NaN  Niagara Mohawk dba Nat'l Grid   \n",
       "139769                      NaN  Niagara Mohawk dba Nat'l Grid   \n",
       "139770                      NaN  Niagara Mohawk dba Nat'l Grid   \n",
       "\n",
       "       Full Market Value_right Assessment Land_right  Assessment Total_right  \\\n",
       "139772                  185626                     0                  185626   \n",
       "139769                   14339                     0                   14339   \n",
       "139770                   14099                     0                   14099   \n",
       "\n",
       "        County Taxable Value  Town Taxable Value School Taxable  \\\n",
       "139772                185626              185626         185626   \n",
       "139769                 14339               14339          14339   \n",
       "139770                 14099               14099          14099   \n",
       "\n",
       "                          Key Map_right  \n",
       "139772  315600656.001-9999-132.350/2883  \n",
       "139769  315600656.001-9999-132.350/1013  \n",
       "139770  315600656.001-9999-132.350/1023  \n",
       "\n",
       "[3 rows x 45 columns]"
      ]
     },
     "execution_count": 22,
     "metadata": {},
     "output_type": "execute_result"
    }
   ],
   "source": [
    "match.sort_values(by='best_match_score', ascending=False).head(3)"
   ]
  },
  {
   "cell_type": "code",
   "execution_count": 23,
   "metadata": {},
   "outputs": [],
   "source": [
    "match.columns = match.columns.str.replace('_right', '')"
   ]
  },
  {
   "cell_type": "code",
   "execution_count": 24,
   "metadata": {},
   "outputs": [],
   "source": [
    "match_clean = match[['index', 'Prop Number', 'Municipality', 'Tax ID', 'Owner',\n",
    "       'Street Number', 'Street Name', 'key', 'Key Map', 'Index',\n",
    "       'Prop Address', 'Owner Name', 'Org Tax', 'City_Tax', 'County_Tax',\n",
    "       'Municipality Code', 'Municipality Name', 'Property Class',\n",
    "       'Property Class Description', 'Full Market Value', 'Assessment Land',\n",
    "       'Assessment Total']]"
   ]
  },
  {
   "cell_type": "code",
   "execution_count": 25,
   "metadata": {},
   "outputs": [],
   "source": [
    "total = total.append([match_clean], ignore_index=True, sort=False)"
   ]
  },
  {
   "cell_type": "code",
   "execution_count": 26,
   "metadata": {},
   "outputs": [
    {
     "data": {
      "text/plain": [
       "index                              0\n",
       "Prop Number                   141396\n",
       "Municipality                       0\n",
       "Tax ID                             0\n",
       "Owner                              1\n",
       "Street Number                  14881\n",
       "Street Name                      446\n",
       "key                                0\n",
       "Key Map                            0\n",
       "Index                          41561\n",
       "Prop Address                   41561\n",
       "Owner Name                     41567\n",
       "Org Tax                            0\n",
       "City_Tax                        7880\n",
       "County_Tax                     29664\n",
       "Municipality Code                  0\n",
       "Municipality Name                  0\n",
       "Property Class                     0\n",
       "Property Class Description         0\n",
       "Full Market Value                  0\n",
       "Assessment Land                    0\n",
       "Assessment Total                   0\n",
       "dtype: int64"
      ]
     },
     "execution_count": 26,
     "metadata": {},
     "output_type": "execute_result"
    }
   ],
   "source": [
    "total.isnull().sum()"
   ]
  },
  {
   "cell_type": "code",
   "execution_count": 27,
   "metadata": {},
   "outputs": [],
   "source": [
    "import os\n",
    "from pandas import ExcelWriter\n",
    "os.chdir(\"C:/Users/\"+ str(os.environ['USERNAME'])+\"/Downloads/\")\n",
    "with ExcelWriter('Syracuse_Homes_Final_Clean_Data.xlsx', date_format='MM/DD/YYYY', datetime_format='MM/DD/YYYY') as writer:\n",
    "    total.to_excel(writer, index=False)"
   ]
  },
  {
   "cell_type": "code",
   "execution_count": null,
   "metadata": {},
   "outputs": [],
   "source": []
  },
  {
   "cell_type": "code",
   "execution_count": null,
   "metadata": {},
   "outputs": [],
   "source": []
  },
  {
   "cell_type": "code",
   "execution_count": null,
   "metadata": {},
   "outputs": [],
   "source": []
  },
  {
   "cell_type": "code",
   "execution_count": null,
   "metadata": {},
   "outputs": [],
   "source": []
  },
  {
   "cell_type": "code",
   "execution_count": null,
   "metadata": {},
   "outputs": [],
   "source": []
  },
  {
   "cell_type": "code",
   "execution_count": null,
   "metadata": {},
   "outputs": [],
   "source": []
  }
 ],
 "metadata": {
  "kernelspec": {
   "display_name": "Python 3",
   "language": "python",
   "name": "python3"
  },
  "language_info": {
   "codemirror_mode": {
    "name": "ipython",
    "version": 3
   },
   "file_extension": ".py",
   "mimetype": "text/x-python",
   "name": "python",
   "nbconvert_exporter": "python",
   "pygments_lexer": "ipython3",
   "version": "3.8.5"
  }
 },
 "nbformat": 4,
 "nbformat_minor": 4
}
